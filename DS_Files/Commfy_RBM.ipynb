{
 "cells": [
  {
   "cell_type": "markdown",
   "id": "1b87b34e",
   "metadata": {
    "id": "1b87b34e"
   },
   "source": [
    "# Ruled-based Model\n",
    "\n",
    "In this notebook, we elucidate how we developed a rule-based model for recommendation of clothing pieces for commuting by bike.This notebook covers the following steps: \n",
    "\n",
    "1. Importing libraries\n",
    "2. Generating input data & collecting location/weather data from OpenWeatherMap API\n",
    "3. Data pre-processing and exploratory data analysis\n",
    "4. Model development \n",
    "5. Model evaluation\n",
    "6. Model deployment\n",
    "   \n",
    "## 1. Importing libraries"
   ]
  },
  {
   "cell_type": "code",
   "execution_count": 1,
   "id": "Lx9N930spWDp",
   "metadata": {
    "executionInfo": {
     "elapsed": 241,
     "status": "ok",
     "timestamp": 1640270506650,
     "user": {
      "displayName": "Florian Grünbaum",
      "photoUrl": "https://lh3.googleusercontent.com/a/default-user=s64",
      "userId": "10948766769968543942"
     },
     "user_tz": -60
    },
    "id": "Lx9N930spWDp"
   },
   "outputs": [],
   "source": [
    "import random\n",
    "from random import randint\n",
    "import requests, json\n",
    "import pandas as pd\n",
    "from datetime import datetime, timezone\n",
    "import pytz # this lib allows accurate and cross platform timezone calculations with python\n",
    "import numpy as np\n",
    "import config # to run this, you should have the congif file in the working directory\n",
    "import matplotlib.pyplot as plt\n",
    "import seaborn as sns"
   ]
  },
  {
   "cell_type": "markdown",
   "id": "ecc51bee",
   "metadata": {},
   "source": [
    "## 2. Generating input data & collecting location/weather data from OpenWeatherMap API\n",
    "\n",
    "In the first step of this section, we define a function 'input_generator' by assinging values to variables"
   ]
  },
  {
   "cell_type": "code",
   "execution_count": 2,
   "id": "eRhGKf7kwXaf",
   "metadata": {
    "executionInfo": {
     "elapsed": 242,
     "status": "ok",
     "timestamp": 1640270507849,
     "user": {
      "displayName": "Florian Grünbaum",
      "photoUrl": "https://lh3.googleusercontent.com/a/default-user=s64",
      "userId": "10948766769968543942"
     },
     "user_tz": -60
    },
    "id": "eRhGKf7kwXaf"
   },
   "outputs": [],
   "source": [
    "def input_generator():\n",
    "    location_list=('Atlanta','Berlin','Hamburg','München','Freiburg','Melbourne', 'Moskau') # example list \n",
    "    location=location_list[randint(0,6)]\n",
    "    time=datetime.now(pytz.timezone('Europe/Berlin')).replace(tzinfo=None)# timezone is irrelevant for our objectives\n",
    "    time=time.replace(hour=randint(time.hour,23))\n",
    "    heaviness_of_trip=randint(1,3)\n",
    "    if heaviness_of_trip==1: heaviness_of_trip=\"easy\"\n",
    "    if heaviness_of_trip==2: heaviness_of_trip=\"normal\"\n",
    "    if heaviness_of_trip==3: heaviness_of_trip=\"hard\"\n",
    "    heat_preference=randint(-5,5)\n",
    "    sex=randint(1,3)\n",
    "    if sex==1: sex=\"m\"\n",
    "    if sex==2: sex=\"f\"\n",
    "    if sex==3: sex=\"d\"\n",
    "    df=pd.DataFrame({\n",
    "    \"location\" : [location],\n",
    "    \"time\": [time], \n",
    "    \"heaviness_of_trip\": [heaviness_of_trip], \n",
    "    \"heat_preference\" : [heat_preference],\n",
    "    \"sex\": [sex]\n",
    "    })\n",
    "    return df"
   ]
  },
  {
   "cell_type": "markdown",
   "id": "021091b5",
   "metadata": {},
   "source": [
    "In the next step, we define a function to generate multiple input data by iterating over rows and appending input data into the dataframe."
   ]
  },
  {
   "cell_type": "code",
   "execution_count": 4,
   "id": "PleQ22Ukw9l2",
   "metadata": {
    "colab": {
     "base_uri": "https://localhost:8080/"
    },
    "executionInfo": {
     "elapsed": 237,
     "status": "ok",
     "timestamp": 1640270511902,
     "user": {
      "displayName": "Florian Grünbaum",
      "photoUrl": "https://lh3.googleusercontent.com/a/default-user=s64",
      "userId": "10948766769968543942"
     },
     "user_tz": -60
    },
    "id": "PleQ22Ukw9l2",
    "outputId": "f1fb7ccb-0a2a-418f-9336-5d0a29197630"
   },
   "outputs": [],
   "source": [
    "#autogenerate DataFrame with multiple input\n",
    "def generate_multi_input(a):\n",
    "    df=input_generator()\n",
    "    for t in range(a-1): #a Trips today (it is asking for one person, so the sex, the heat preference and the ocation ist not changing)\n",
    "        df=df.append(input_generator(),ignore_index = True)\n",
    "        df.at[t+1,'location']=df['location'].iloc[0]\n",
    "        df.at[t+1,'heat_preference']=df['heat_preference'].iloc[0]\n",
    "        df.at[t+1,'sex']=df['sex'].iloc[0]\n",
    "    return df"
   ]
  },
  {
   "cell_type": "markdown",
   "id": "09d219a7",
   "metadata": {},
   "source": [
    "In this step, we use python requests library to retrieve relevant data from the API. For this, we invoked the HTTP method Get to retrieve data."
   ]
  },
  {
   "cell_type": "code",
   "execution_count": 9,
   "id": "dc60b758",
   "metadata": {},
   "outputs": [],
   "source": [
    "def weather(df):\n",
    "    base_url = \"http://api.openweathermap.org/data/2.5/weather?\" # assigning current weather url to base_url \n",
    "    future_url=\"https://api.openweathermap.org/data/2.5/forecast?\"# assigning future weather url to future_url\n",
    "    df['weather']=None\n",
    "    df['temperature']=None\n",
    "    #for every row in the dataframe\n",
    "    for i in range(len(df.index)) :\n",
    "        # Give city name\n",
    "        city_name = df['location'].iloc[i]\n",
    "        df_time=df['time'].iloc[i].replace(tzinfo=None)\n",
    "        now=datetime.now(pytz.timezone('Europe/Berlin')).replace(tzinfo=None)\n",
    "        # complete_url stores the api address for the current weather data\n",
    "        complete_current_url = base_url + \"appid=\" + config.api_key + \"&q=\" + city_name + \"&units=metric\"\n",
    "        # complete url stores the api address for the future weather data\n",
    "        complete_future_url = future_url + \"q=\" + city_name + \"&appid=\" + config.api_key + \"&units=metric\"\n",
    "        # expected response object\n",
    "        response = requests.get(complete_current_url).json() #response of the current weather data\n",
    "        response_future = requests.get(complete_future_url).json() # response of the future weather (3 hours weather forecast)\n",
    "        time_forecast=datetime.strptime(response_future['list'][0]['dt_txt'],'%Y-%m-%d %H:%M:%S')\n",
    "        time_forecast2=datetime.strptime(response_future['list'][1]['dt_txt'],'%Y-%m-%d %H:%M:%S')\n",
    "        # json method of response object\n",
    "        # convert json format data into\n",
    "        # python format data\n",
    "        if (abs((df_time-now).total_seconds()) <abs((time_forecast-df_time).total_seconds()))&(abs((df_time-now).total_seconds()) <abs((time_forecast2-df_time).total_seconds())): #is the time closer to now then to any of the future forecast\n",
    "            df.at[i,'weather']=response['weather'][0]['main']\n",
    "            df.at[i,'temperature']=response['main']['temp']\n",
    "            df.at[i,'windspeed']=response['wind']['speed']\n",
    "        else:\n",
    "            for a in range(10): # looks up to 30 hours in the future\n",
    "                time_forecast=datetime.strptime(response_future['list'][a]['dt_txt'],'%Y-%m-%d %H:%M:%S')\n",
    "                substrakt=time_forecast-df_time\n",
    "                if abs(substrakt.total_seconds())<5400: ## Forecast is just every 3 hours, so it is always taking the closest one\n",
    "                    df.at[i,'weather']=response_future['list'][a]['weather'][0]['main']\n",
    "                    df.at[i,'temperature']=response_future['list'][a]['main']['temp']\n",
    "                    df.at[i,'windspeed']=response_future['list'][a]['wind']['speed']\n",
    "                    break   \n",
    "    return df"
   ]
  },
  {
   "cell_type": "markdown",
   "id": "d28ddb86",
   "metadata": {},
   "source": [
    "The following function is used to generate a evaluation datasets, sex is male, cause the evalution set is specific builded for Matze.<p> There is no random state added, cause it would be needed to implement into the input_generator() function, which has more uses then just building the evaluationset"
   ]
  },
  {
   "cell_type": "code",
   "execution_count": 83,
   "id": "c37342af",
   "metadata": {},
   "outputs": [],
   "source": [
    "# generating dataset for different weather scenarios\n",
    "def generate_evaluationset():\n",
    "    df=input_generator()\n",
    "    df.at[0,'heat_preference']=0\n",
    "    df.at[0,'sex']='m'\n",
    "    for t in range(14): # a trip for today (asking one person, thus, sex, the heat preference and the location isn't changing)\n",
    "        df=df.append(input_generator(),ignore_index = True)\n",
    "        df.at[t+1,'heat_preference']=0\n",
    "        df.at[t+1,'sex']='m'\n",
    "    return df"
   ]
  },
  {
   "cell_type": "markdown",
   "id": "dd3c6ae5",
   "metadata": {},
   "source": [
    "<hr style=\"border:2px solid gray\"> </hr>   \n",
    "   \n",
    "## 3. Data pre-processing and exploratory data analysis (EDA)\n",
    "\n",
    "Data cleaning: The following function with for loop iterates over the rows in dataframe and detects missing values or inaccurate/corrupt records and replaces them with 'incomplete data' enabling the non-stop provision of data for the app.\n",
    "1. if heat preference is missing --> 'incomplete data'\n",
    "2. if sex is missing --> 'incomplete data'\n",
    "3. if time is missing --> 'incomplete data'\n",
    "4. if heavines of trip is missing --> 'incomplete data'\n",
    "5. if location is missing --> 'incomplete data'"
   ]
  },
  {
   "cell_type": "code",
   "execution_count": 12,
   "id": "72d2c62c",
   "metadata": {},
   "outputs": [],
   "source": [
    "def input_cleaning(df):\n",
    "    df['heat_preference'] = df['heat_preference'].fillna('incomplete data') \n",
    "    df['time'] = df['time'].fillna(datetime.now(pytz.timezone('Europe/Berlin')).replace(tzinfo=None))\n",
    "    df['sex'] = df['sex'].fillna('incomplete data')\n",
    "    df['heaviness_of_trip'] = df['heaviness_of_trip'].fillna('incomplete data')\n",
    "    df['location'] = df['location'].fillna('incomplete data')\n",
    "    return df"
   ]
  },
  {
   "cell_type": "markdown",
   "id": "3f179bec",
   "metadata": {},
   "source": [
    "In general most of the data is collected in the first steps using the application. so actually there is no further preprocessing needed.\n",
    "In future version it is possible to integrate Geolocations instead of names for the location."
   ]
  },
  {
   "cell_type": "markdown",
   "id": "724b2fc9",
   "metadata": {},
   "source": [
    "Data visualisation is not needed in this state of the model, it will be done later during the evaluation"
   ]
  },
  {
   "cell_type": "markdown",
   "id": "caf3dc55",
   "metadata": {
    "id": "caf3dc55"
   },
   "source": [
    "<hr style=\"border:2px solid gray\"> </hr>   \n",
    "   \n",
    "## 5. Model development\n",
    "\n",
    "In this section, we develop a model, based on the rules extracted from decision trees. The rules define the clothing items for different bodyparts based on five distinct features. We took the following arithmetic expression 'temp + heatperception – (if female ==2) > current_temp' as the main logic. The thresholds were picked based on empirical observation (personal experience) and intuition. All functions use dataframes as input and append new columns by extending the frame."
   ]
  },
  {
   "cell_type": "code",
   "execution_count": 16,
   "id": "1f5ba1f3",
   "metadata": {},
   "outputs": [],
   "source": [
    "def t_p_s_h(df,i): # t_p_s_h stands for temperature_heat preference_sex_heaviness_of_trip\n",
    "    red=0. # reducing parameter\n",
    "    if df['sex'].iloc[i]=='f':\n",
    "        red=2.\n",
    "    heaviness=0.\n",
    "    if df['heaviness_of_trip'].iloc[i]=='hard':\n",
    "        heaviness=2.\n",
    "    else:\n",
    "        if df['heaviness_of_trip'].iloc[i]=='easy':\n",
    "            heaviness=-2.\n",
    "    t_p_s_h=float(df['temperature'].iloc[i])+float(df['heat_preference'].iloc[i])-red+heaviness\n",
    "    return t_p_s_h"
   ]
  },
  {
   "cell_type": "code",
   "execution_count": 17,
   "id": "b47889df",
   "metadata": {
    "executionInfo": {
     "elapsed": 272,
     "status": "ok",
     "timestamp": 1640272027052,
     "user": {
      "displayName": "Florian Grünbaum",
      "photoUrl": "https://lh3.googleusercontent.com/a/default-user=s64",
      "userId": "10948766769968543942"
     },
     "user_tz": -60
    },
    "id": "b47889df"
   },
   "outputs": [],
   "source": [
    "# defining the rules for headwear\n",
    "def headwear(df):\n",
    "   df['headwear']=3\n",
    "   for i in range(len(df.index)):\n",
    "      if t_p_s_h(df,i)>10: # if temp above 10C, the model recommends nothing but Helmet\n",
    "            df.at[i,'headwear']=1\n",
    "      else:\n",
    "         if t_p_s_h(df,i)>2:\n",
    "            df.at[i,'headwear']=2\n",
    "   return df"
   ]
  },
  {
   "cell_type": "code",
   "execution_count": 18,
   "id": "21024334",
   "metadata": {},
   "outputs": [],
   "source": [
    "# defining the rules for sunglasses\n",
    "def sunglasses(df):\n",
    "    df['sunglasses']=0\n",
    "    for i in range(len(df.index)):\n",
    "        if df['weather'].iloc[i]=='Clear': # sun or clear is the only split for this tree\n",
    "            df.at[i,'sunglasses']=1\n",
    "    return df"
   ]
  },
  {
   "cell_type": "code",
   "execution_count": 19,
   "id": "fabe67e4",
   "metadata": {},
   "outputs": [],
   "source": [
    "# defining the rules for neck\n",
    "def neck(df):\n",
    "    \n",
    "    df['neck']=3\n",
    "    for i in range(len(df.index)):\n",
    "        if t_p_s_h(df,i)>22:   # above 22 degrees no buff\n",
    "            df.at[i,'neck']=1\n",
    "        else :\n",
    "            if t_p_s_h(df,i)>12:\n",
    "                if (df['weather'].iloc[i]=='Rain')|(df['windspeed'].iloc[i]>15): # if temp > 15C & windy or rainy, then buff, else none.\n",
    "                    df.at[i,'neck']=2\n",
    "                else :\n",
    "                    df.at[i,'neck']=1\n",
    "            else :\n",
    "                if (t_p_s_h(df,i)>0) | (df['weather'].iloc[i]=='Clear'): # if temp > 0C & sunny, then buff, otherwise warm scarf\n",
    "                    df.at[i,'neck']=2\n",
    "    return df"
   ]
  },
  {
   "cell_type": "code",
   "execution_count": 20,
   "id": "e27158db",
   "metadata": {},
   "outputs": [],
   "source": [
    "# defining the rules for shirt and singlet \n",
    "def inner_layer(df):\n",
    "    df['shirt']=0\n",
    "    df['singlet']=0\n",
    "    for i in range(len(df.index)):\n",
    "        if t_p_s_h(df,i)>10: # 10 C is the split. If temp is above 10, wear shirt. Under 10C wear a singlet.\n",
    "            df.at[i,'shirt']=1\n",
    "        else:\n",
    "            df.at[i,'singlet']=1\n",
    "    \n",
    "    return df"
   ]
  },
  {
   "cell_type": "code",
   "execution_count": 21,
   "id": "d3cf8851",
   "metadata": {},
   "outputs": [],
   "source": [
    "#defining the rules for the upper body clothing pieces\n",
    "def upper_body_outer_layers(df):\n",
    "    df['upper_body_second_layer']=3\n",
    "    df['upper_body_third_layer']=3\n",
    "    df['upper_body_outer_layer']=5\n",
    "    for i in range(len(df.index)):\n",
    "        if t_p_s_h(df,i)>25:\n",
    "            df.at[i,'upper_body_second_layer']=1\n",
    "            df.at[i,'upper_body_third_layer']=1\n",
    "            df.at[i,'upper_body_outer_layer']=1\n",
    "        else:\n",
    "            if t_p_s_h(df,i)>20:\n",
    "                if df['weather'].iloc[i]=='Rain':\n",
    "                    df.at[i,'upper_body_second_layer']=2\n",
    "                    df.at[i,'upper_body_third_layer']=1\n",
    "                    df.at[i,'upper_body_outer_layer']=3\n",
    "                else:\n",
    "                    df.at[i,'upper_body_second_layer']=2\n",
    "                    df.at[i,'upper_body_third_layer']=1\n",
    "                    df.at[i,'upper_body_outer_layer']=1\n",
    "            else:\n",
    "                if t_p_s_h(df,i)>10:\n",
    "                    if df['weather'].iloc[i]=='Rain':\n",
    "                        df.at[i,'upper_body_second_layer']=3\n",
    "                        df.at[i,'upper_body_third_layer']=1\n",
    "                        df.at[i,'upper_body_outer_layer']=4\n",
    "                    else:\n",
    "                        df.at[i,'upper_body_second_layer']=2\n",
    "                        df.at[i,'upper_body_third_layer']=2\n",
    "                        df.at[i,'upper_body_outer_layer']=1\n",
    "                else:\n",
    "                    if t_p_s_h(df,i)>0:\n",
    "                        if df['weather'].iloc[i]=='Clear':\n",
    "                            df.at[i,'upper_body_second_layer']=2\n",
    "                            df.at[i,'upper_body_third_layer']=2\n",
    "                            df.at[i,'upper_body_outer_layer']=3\n",
    "                        else:\n",
    "                            df.at[i,'upper_body_second_layer']=3\n",
    "                            df.at[i,'upper_body_third_layer']=1\n",
    "                            df.at[i,'upper_body_outer_layer']=5\n",
    "                    else:\n",
    "                        if t_p_s_h(df,i)>-5:\n",
    "                            df.at[i,'upper_body_second_layer']=3\n",
    "                            df.at[i,'upper_body_third_layer']=2\n",
    "                            df.at[i,'upper_body_outer_layer']=3\n",
    "    return df"
   ]
  },
  {
   "cell_type": "code",
   "execution_count": 22,
   "id": "078a0051",
   "metadata": {},
   "outputs": [],
   "source": [
    "#defining the rules for handwear\n",
    "def hands(df):\n",
    "    df['hands']=3\n",
    "    for i in range(len(df.index)):\n",
    "        if t_p_s_h(df,i)>15: # first split is at 10 C, model recommends no handwear.\n",
    "            df.at[i,'hands']=1\n",
    "        else:\n",
    "            if (t_p_s_h(df,i)>11):\n",
    "                if(df['windspeed'].iloc[i]>15):\n",
    "                    df.at[i,'hands']=2\n",
    "                else:\n",
    "                    df.at[i,'hands']=1\n",
    "            else:\n",
    "                if (t_p_s_h(df,i)>8):\n",
    "                    df.at[i,'hands']=2\n",
    "    return df"
   ]
  },
  {
   "cell_type": "code",
   "execution_count": 23,
   "id": "5a236130",
   "metadata": {},
   "outputs": [],
   "source": [
    "# defining the rules for raintrousers\n",
    "def raintrousers(df):\n",
    "    df['raintrousers']=0\n",
    "    for i in range(len(df.index)):\n",
    "        if t_p_s_h(df,i)<17: # 17C is the first split. If temp < 17 and rainy, it recommends raintrousers.\n",
    "            if df['weather'].iloc[i]=='Rain':\n",
    "                df.at[i,'raintrousers']=1\n",
    "    return df"
   ]
  },
  {
   "cell_type": "code",
   "execution_count": 24,
   "id": "34de60b2",
   "metadata": {},
   "outputs": [],
   "source": [
    "# defining the rules for socks\n",
    "def socks(df):\n",
    "    df['socks']=3\n",
    "    for i in range(len(df.index)):\n",
    "        if t_p_s_h(df,i)>22: # if temp > 22 and rainy, the model recommends socks\n",
    "            if df['weather'].iloc[i]=='Rain':\n",
    "                df.at[i,'socks']=2\n",
    "            else:\n",
    "                if df['sex'].iloc[i]=='f': # if temp > 22, weather state is not rainy & user is female, then no socks, for male with socks\n",
    "                    df.at[i,'socks']=1\n",
    "                else:\n",
    "                    df.at[i,'socks']=2\n",
    "        else:\n",
    "            if t_p_s_h(df,i)>0:       # above 0 normal socks, under 0 woolen socks\n",
    "                df.at[i,'socks']=2\n",
    "    return df"
   ]
  },
  {
   "cell_type": "code",
   "execution_count": 25,
   "id": "7f6baa2b",
   "metadata": {},
   "outputs": [],
   "source": [
    "#defining the rules for shoes\n",
    "def shoes(df):\n",
    "    df['shoes']=3\n",
    "    for i in range(len(df.index)):\n",
    "        if t_p_s_h(df,i)>22:   # if the temp > 22 C & rainy, the model recommends low shoes\n",
    "            if df['weather'].iloc[i]=='Rain':\n",
    "                df.at[i,'shoes']=2\n",
    "            else:\n",
    "                    df.at[i,'shoes']=1 # if temp > 22, the model recommends summer shoes\n",
    "        else:\n",
    "            if t_p_s_h(df,i)>2: # if temp > 7 & rainy, the model recommends rainshoes\n",
    "                if df['weather'].iloc[i]=='Rain':\n",
    "                    df.at[i,'shoes']=4 # if not rainy, then normal shoes. if under 7 C, then boots\n",
    "                else:\n",
    "                    df.at[i,'shoes']=2\n",
    "\n",
    "    return df"
   ]
  },
  {
   "cell_type": "code",
   "execution_count": 26,
   "id": "4tkMp39ntVSQ",
   "metadata": {
    "colab": {
     "base_uri": "https://localhost:8080/"
    },
    "executionInfo": {
     "elapsed": 264,
     "status": "ok",
     "timestamp": 1640274046417,
     "user": {
      "displayName": "Florian Grünbaum",
      "photoUrl": "https://lh3.googleusercontent.com/a/default-user=s64",
      "userId": "10948766769968543942"
     },
     "user_tz": -60
    },
    "id": "4tkMp39ntVSQ",
    "outputId": "d2974d75-7c19-4606-c919-0c8f6de4159d"
   },
   "outputs": [],
   "source": [
    "# concatenating the output of the logic of the decision trees into single list\n",
    "def get_clothing_output_rbm(df):\n",
    "    headwear(df)\n",
    "    sunglasses(df)\n",
    "    neck(df)\n",
    "    inner_layer(df)\n",
    "    upper_body_outer_layers(df)\n",
    "    hands(df)\n",
    "    raintrousers(df)\n",
    "    socks(df)\n",
    "    shoes(df)\n",
    "    #df['control']=0\n",
    "    #for i in range(len(df.index)):\n",
    "    #   df.at[i,'control']=t_p_s_h(df,i)\n",
    "    return df"
   ]
  },
  {
   "cell_type": "code",
   "execution_count": 27,
   "id": "e5a33446",
   "metadata": {},
   "outputs": [],
   "source": [
    "# using function 'add_dummy(df)'for testing purposes.<p>\n",
    "def add_dummy(df):\n",
    "    df['headwear']=1\n",
    "    df['sunglasses']=0\n",
    "    df['neck']=1\n",
    "    df['singlet']=0\n",
    "    df['shirt']=0\n",
    "    df['upper_body_second_layer']=1\n",
    "    df['upper_body_third_layer']=1\n",
    "    df['upper_body_outer_layer']=1\n",
    "    df['hands']=1\n",
    "    df['raintrousers']=0\n",
    "    df['socks']=1\n",
    "    df['shoes']=1\n",
    "    for i in range(len(df.index)):\n",
    "        df.at[i,'headwear']=randint(1,4)\n",
    "        df.at[i,'sunglasses']=randint(0,1)\n",
    "        df.at[i,'neck']=randint(1,3)\n",
    "        df.at[i,'singlet']=randint(0,1)\n",
    "        df.at[i,'shirt']=randint(0,1)\n",
    "        df.at[i,'upper_body_second_layer']=randint(1,3)\n",
    "        df.at[i,'upper_body_third_layer']=randint(1,3)\n",
    "        df.at[i,'upper_body_outer_layer']=randint(1,5)\n",
    "        df.at[i,'hands']=randint(1,3)\n",
    "        df.at[i,'raintrousers']=randint(0,1)\n",
    "        df.at[i,'socks']=randint(1,2)\n",
    "        df.at[i,'shoes']=randint(1,3)\n",
    "    return df"
   ]
  },
  {
   "cell_type": "markdown",
   "id": "943ab413",
   "metadata": {},
   "source": [
    "<hr style=\"border:2px solid gray\"> </hr>  \n",
    "\n",
    "## 6. Model evaluation\n",
    "\n",
    "- Evaluation from technical perspective:\n",
    "We generated fifteen different weather scenarios (combination of six features) for hot, warm, breezy, and cold seasons to ask a user to fill in the table with clothing pieces that s/he would pick for given scenarios. We compared a user’s clothing selections with clothing recommendations from the rule-based model. The model scored 73% (double check), outperforming our initial prediction accuracy score goal for three percent. \n",
    " \n",
    "- Evaluation from user's point of view:\n",
    "Afterward, we provided a user with clothing predictions from the rule-based model to evaluate the recommendations on a scale of way too cold’, ‘a little too cold’, ‘just right’, ‘a little too hot’, ‘way too hot’. The successful model will achieve a perfect clothing feedback score of above 70% of app uses (still needs to be conducted)."
   ]
  },
  {
   "cell_type": "code",
   "execution_count": 85,
   "id": "1f028475",
   "metadata": {},
   "outputs": [],
   "source": [
    "# generating an evaluation set for user to fill out\n",
    "evaluation_technical=weather(generate_evaluationset())\n"
   ]
  },
  {
   "cell_type": "code",
   "execution_count": 79,
   "id": "5b7b4896",
   "metadata": {},
   "outputs": [],
   "source": [
    "# comparing user-chosen clothing items to given scenarios to clothing outputs recommended by rule-based model\n",
    "evaluation_user=get_clothing_output_rbm(evaluation_technical)\n",
    "evaluation_user.to_csv('evaluation_user_csv_v1.csv')# saving the evaluation set into a csv file"
   ]
  },
  {
   "cell_type": "markdown",
   "id": "8fb7a353",
   "metadata": {},
   "source": [
    "Reading in the provided dataframe of Matze and get a second dataframe with just the used Input from his evaluationset"
   ]
  },
  {
   "cell_type": "code",
   "execution_count": null,
   "id": "31fe5d46",
   "metadata": {},
   "outputs": [],
   "source": [
    "matze=pd.read_csv('evaluation_user_matze.csv', sep=\";\")\n",
    "matze\n",
    "matze_input=matze.iloc[: , :8]\n",
    "matze_input['heat_preference']=0\n",
    "matze_input"
   ]
  },
  {
   "cell_type": "markdown",
   "id": "536f3db6",
   "metadata": {},
   "source": [
    "In the Following Code section we are going through the provided dataset from Matze and try to find the best fit for his Heat_preference"
   ]
  },
  {
   "cell_type": "code",
   "execution_count": 32,
   "id": "c62f6f72",
   "metadata": {},
   "outputs": [
    {
     "name": "stdout",
     "output_type": "stream",
     "text": [
      "the heatpreference is:  -5  the score is:  0.5944444444444444\n",
      "the heatpreference is:  -4  the score is:  0.6222222222222222\n",
      "the heatpreference is:  -3  the score is:  0.6444444444444444\n",
      "the heatpreference is:  -2  the score is:  0.65\n",
      "the heatpreference is:  -1  the score is:  0.6666666666666667\n",
      "the heatpreference is:  0  the score is:  0.6833333333333333\n",
      "the heatpreference is:  1  the score is:  0.7166666666666667\n",
      "the heatpreference is:  2  the score is:  0.7055555555555555\n",
      "the heatpreference is:  3  the score is:  0.7111111111111111\n",
      "the heatpreference is:  4  the score is:  0.7111111111111111\n",
      "the heatpreference is:  5  the score is:  0.6944444444444444\n"
     ]
    },
    {
     "data": {
      "image/png": "[encoded data removed]",
      "text/plain": [
       "<Figure size 432x288 with 1 Axes>"
      ]
     },
     "metadata": {
      "needs_background": "light"
     },
     "output_type": "display_data"
    }
   ],
   "source": [
    "sco={}\n",
    "score_df=pd.DataFrame.from_dict(sco)\n",
    "score_df['score']=0\n",
    "for i in range(-5,6):\n",
    "    matze_input['heat_preference']=i\n",
    "    comp=get_clothing_output_rbm(matze_input).compare(matze,keep_shape=True)\n",
    "    comp=comp.loc(axis=1)[:,'self']\n",
    "    comp.columns=comp.columns.droplevel(-1)\n",
    "    comp.drop('heat_preference',axis=1, inplace=True)\n",
    "    score=1-(comp.notna().sum().sum())/180\n",
    "    score_df.at[i,'score']=score\n",
    "    print('the heatpreference is: ', i , ' the score is: ', score)\n",
    "#comp\n",
    "#score\n",
    "#print(score_df)\n",
    "score_df.plot(drawstyle='steps')\n",
    "plt.show()"
   ]
  },
  {
   "cell_type": "markdown",
   "id": "4aa51ffe",
   "metadata": {},
   "source": [
    "The following lines are manly to understand the usage with the dataframe and to find out how to plot the data"
   ]
  },
  {
   "cell_type": "code",
   "execution_count": 86,
   "id": "8d4841c3",
   "metadata": {},
   "outputs": [],
   "source": [
    "matze_input['heat_preference']=1\n",
    "best=get_clothing_output_rbm(matze_input).compare(matze,keep_shape=True)\n",
    "#print(best)\n",
    "best=best.loc(axis=1)[:,'self']\n",
    "best.columns=best.columns.droplevel(-1)\n",
    "best.drop('heat_preference',axis=1, inplace=True)\n",
    "best.drop(columns=['location','time','heaviness_of_trip','sex','weather','temperature','windspeed'], inplace=True)\n",
    "best_wrong=best.notna().sum().sum() # counting the wrongs\n",
    "score=1-best_wrong/180\n",
    "#print(score)\n",
    "#print(best.notna().sum().sort_values())\n",
    "#best.columns\n"
   ]
  },
  {
   "cell_type": "markdown",
   "id": "dbd3b5a0",
   "metadata": {},
   "source": [
    "Showing a bar with number of wrong recommendations per category"
   ]
  },
  {
   "cell_type": "code",
   "execution_count": 87,
   "id": "74526390",
   "metadata": {},
   "outputs": [
    {
     "data": {
      "image/png": "[encoded data removed]",
      "text/plain": [
       "<Figure size 1440x288 with 1 Axes>"
      ]
     },
     "metadata": {
      "needs_background": "light"
     },
     "output_type": "display_data"
    }
   ],
   "source": [
    "\n",
    "fig, axs = plt.subplots(1, 1, figsize=(20, 4), sharey=True)\n",
    "plt.bar(best.columns,best.notna().sum())\n",
    "plt.xticks(rotation=90)\n",
    "#axs.title('number of wrong recommendations')\n",
    "#best.notna().sum().sort_values().plot(drawstyle=\"bar\", linewidth=2, title='number of wrong recommendations')\n",
    "plt.title('number of wrong recommendations per category')\n",
    "plt.show()"
   ]
  },
  {
   "cell_type": "markdown",
   "id": "db262e63",
   "metadata": {},
   "source": [
    "Showing a bar with the percantage of correct recommendations per category"
   ]
  },
  {
   "cell_type": "code",
   "execution_count": 75,
   "id": "11c01870",
   "metadata": {},
   "outputs": [
    {
     "data": {
      "image/png": "[encoded data removed]",
      "text/plain": [
       "<Figure size 1440x288 with 1 Axes>"
      ]
     },
     "metadata": {
      "needs_background": "light"
     },
     "output_type": "display_data"
    }
   ],
   "source": [
    "fig, axs = plt.subplots(1, 1, figsize=(20, 4), sharey=True)\n",
    "plt.bar(best.columns,(1-(best.notna().sum()/15)))\n",
    "for i, v in enumerate((1-(best.notna().sum()/15))):\n",
    "    axs.text(i, v, str(round(v*100,2))+\"%\", \n",
    "            color = 'blue')\n",
    "plt.xticks(rotation=90)\n",
    "#axs.title('number of wrong recommendations')\n",
    "#best.notna().sum().sort_values().plot(drawstyle=\"bar\", linewidth=2, title='number of wrong recommendations')\n",
    "plt.title('number of correct recommendations per category in %')\n",
    "plt.show()"
   ]
  },
  {
   "cell_type": "markdown",
   "id": "1f597b47",
   "metadata": {},
   "source": [
    "### Interpretation\n",
    "The following is an analysis for the categories with the largest number of false recommendations.\n",
    "1. shoes have a large number, because Matze always wears the same shoes. Our model predicts different types of shoes for winter, fall and summer conditions.\n",
    "2.Neck has a huge number because Matze always wears the buff or no neck protection. In discussion with stakeholders we want to recommend warm scarves for some weather conditions. --> the number was higher at the beginning, I adjusted the thresholds a bit, so for a wider temperature range the buff is recommended.\n",
    "3. shirt and singlet are actually difficult to analyze, because they are not recommended in the application. In this case, Matze always wears a shirt and never a singlet. I personally would do it that way, but in the stakeholder discussion it showed that people handle it differently.\n",
    "4. Matze simply does not use sunglasses.\n",
    "5. outer layers are better than expected, as we always recommend a set of the 3 outer layers, personal preferences can be very different. If you decide to wear anything else in the second layer, it has a big impact on the third and outer layer.\n",
    "\n",
    "\n"
   ]
  },
  {
   "cell_type": "markdown",
   "id": "55f785a3",
   "metadata": {
    "id": "55f785a3"
   },
   "source": [
    "<hr style=\"border:2px solid gray\"> </hr>  \n",
    "\n",
    "## 7. Output concatenation\n",
    "The function 'get_clothing(df)' outputs 3 recommendations in dataframes. \n",
    "\n",
    "- The first df recommends clothing items for current enquiry\n",
    "- The second df recommends which clothing items to pack in a backpack\n",
    "- The third one provides information on what to wear at which trip.\n",
    "\n",
    "The functions recommendation_df(df)& recommendation_json(js) converts the input (either from a df or a json) into a json format required for the Flask API."
   ]
  },
  {
   "cell_type": "code",
   "execution_count": 35,
   "id": "0a9d59be",
   "metadata": {},
   "outputs": [],
   "source": [
    "# get three lists for to wear now and to bring in the backpack and a full DF what to wear at which trip\n",
    "def get_clothing(df):\n",
    "    dic=['headwear','sunglasses','neck','singlet','shirt','upper_body_second_layer','upper_body_third_layer','upper_body_outer_layer','hands','raintrousers','socks','shoes'] # all columns\n",
    "    oneisnone=['headwear','neck','upper_body_second_layer','upper_body_third_layer','upper_body_outer_layer','hands'] # all colums where 1 is the lowest possible output\n",
    "    ##wear_now is the first clothing set from the first input beside when shoes and jacket are to big, they have to be wear them \n",
    "    wear_now=df.iloc[0:1].copy()\n",
    "    ##in the backpack is all the other necessary clothes\n",
    "    backpack_help=df.iloc[:,8:].copy()\n",
    "    backpack=backpack_help.iloc[0:0].copy() # empty DF with column names\n",
    "    for i in dic:\n",
    "        if backpack_help[i].unique().max()==0|((i in oneisnone) & backpack_help[i].unique().max()==1): #if the maximum of the category is not wear any, stop here\n",
    "            backpack.at[0,i]=None\n",
    "        else:\n",
    "            z=0\n",
    "            while z<backpack_help[i].nunique():\n",
    "                if backpack_help[i].unique()[z]!=0: #if the the newest item of the category is not to wear any, skip it\n",
    "                    if ((i in oneisnone) & backpack_help[i].unique()[z]!=1):\n",
    "                        backpack.at[z,i]=backpack_help[i].unique()[z]\n",
    "                z=z+1\n",
    "    ##if shoes or the outerlayer are bigger in the backpack we gonna wear the biggest one, so the backpack won't get to full\n",
    "    if backpack_help['shoes'].unique().max()> wear_now['shoes'][0]:\n",
    "        wear_now.at[0,'shoes']=backpack_help['shoes'].unique().max()\n",
    "    backpack.at[:,'shoes']=None\n",
    "    if backpack_help['upper_body_outer_layer'].unique().max()> wear_now['upper_body_outer_layer'][0]:\n",
    "        wear_now.at[0,'upper_body_outer_layer']=backpack_help['upper_body_outer_layer'].unique().max()\n",
    "    backpack.at[:,'upper_body_outer_layer']=None  \n",
    "    backpack=backpack.replace({np.nan: None})\n",
    "    #Ouput of all Clothing Sets in every trip, shoes and outerlayer must be the same as in the first trip\n",
    "    clothing_per_trip=df\n",
    "    clothing_per_trip.at[:,'shoes']=wear_now['shoes'][0]\n",
    "    clothing_per_trip.at[:,'upper_body_outer_layer']=wear_now['upper_body_outer_layer'][0]\n",
    "\n",
    "    return wear_now, backpack, clothing_per_trip\n"
   ]
  },
  {
   "cell_type": "code",
   "execution_count": 36,
   "id": "f8074d17",
   "metadata": {},
   "outputs": [],
   "source": [
    "def recommendation_json(js):\n",
    "    json_inp= pd.read_json(js, orient='index',convert_dates=['time'])  \n",
    "    rec_dfs= get_clothing(get_clothing_output_rbm(weather(input_cleaning(json_inp))))\n",
    "    rec_js= '{\"clothes\":{\"now\":'+rec_dfs[0].to_json(orient=\"records\")\n",
    "    rec_js= rec_js+',\"backpack\":'+rec_dfs[1].apply(lambda x: [x.dropna()], axis=1).to_json() # drop the nan from df\n",
    "    rec_js= rec_js+',\"perTrip\":'+rec_dfs[2].to_json(orient=\"index\")+'}}'\n",
    "    return rec_js"
   ]
  },
  {
   "cell_type": "code",
   "execution_count": 37,
   "id": "118fcf90",
   "metadata": {},
   "outputs": [],
   "source": [
    "def recommendation_df(df):\n",
    "    rec_dfs= get_clothing(get_clothing_output_rbm(weather(input_cleaning(df))))\n",
    "    rec_js= '{\"clothes\":{\"now\":'+rec_dfs[0].to_json(orient=\"records\")\n",
    "    rec_js= rec_js+',\"backpack\":'+rec_dfs[1].apply(lambda x: [x.dropna()], axis=1).to_json()#(orient=\"columns\")\n",
    "    rec_js= rec_js+',\"perTrip\":'+rec_dfs[2].to_json(orient=\"index\")+'}}'\n",
    "    return rec_js"
   ]
  },
  {
   "cell_type": "markdown",
   "id": "f28fc495",
   "metadata": {},
   "source": [
    "## 8. Model deployment"
   ]
  },
  {
   "cell_type": "markdown",
   "id": "d6a3c6a1",
   "metadata": {},
   "source": [
    "Deployment is in the Flask_api.py\n",
    "manly used is the function recommendation_json(js)"
   ]
  },
  {
   "cell_type": "markdown",
   "id": "409a934c",
   "metadata": {},
   "source": [
    "### Testing area"
   ]
  },
  {
   "cell_type": "code",
   "execution_count": null,
   "id": "97173615",
   "metadata": {},
   "outputs": [],
   "source": [
    "#checking if the function is working as defined\n",
    "a=generate_multi_input(4)\n",
    "print(a)\n",
    "#displaying data in json\n",
    "a=a.to_json(orient=\"index\",date_format='iso')\n",
    "print(a)\n",
    "#testing data with json input\n",
    "json_inp=pd.read_json(a, orient='index',convert_dates=['time'])   \n",
    "print(json_inp)\n",
    "#testing the read in from different jsn formats\n",
    "b={\"0\":{\"location\":\"Freiburg\"},\"1\":{\"time\":\"2022-01-23T23:09:32.856Z\"},\"2\":{\"location\":\"Freiburg\",\"time\":\"2022-01-23T22:09:32.867Z\",\"heaviness_of_trip\":\"easy\",\"heat_preference\":-2,\"sex\":\"m\"},\"3\":{\"location\":\"Freiburg\",\"time\":\"2022-01-23T17:09:32.878Z\",\"heat_preference\":-2,\"sex\":\"m\"}}\n",
    "c=json.dumps(b)\n",
    "print(c)\n",
    "json_inp= pd.read_json(c, orient='index',convert_dates=['time'])   \n",
    "print(json_inp)"
   ]
  },
  {
   "cell_type": "code",
   "execution_count": null,
   "id": "dec59e32",
   "metadata": {},
   "outputs": [],
   "source": [
    "#weather test\n",
    "#two dataframes (one with just 1 input, and one with 6 input Trips)\n",
    "test=weather(input_generator())\n",
    "len(test.index)\n",
    "test.to_json()\n",
    "print(test.to_json())\n",
    "print(test)\n",
    "test2=weather(generate_multi_input(20))\n",
    "test2.head()"
   ]
  },
  {
   "cell_type": "code",
   "execution_count": null,
   "id": "1dbfe297",
   "metadata": {},
   "outputs": [],
   "source": [
    "#Testing the input cleaner\n",
    "input_cleaning(json_inp)\n",
    "print(json_inp)"
   ]
  },
  {
   "cell_type": "code",
   "execution_count": null,
   "id": "3aff191d",
   "metadata": {},
   "outputs": [],
   "source": [
    "#testing the model\n",
    "test3=weather(generate_multi_input(20))\n",
    "get_clothing_output_rbm(test3)"
   ]
  }
 ],
 "metadata": {
  "colab": {
   "collapsed_sections": [],
   "name": "Commfy_RBM.ipynb",
   "provenance": []
  },
  "kernelspec": {
   "display_name": "Python 3",
   "language": "python",
   "name": "python3"
  },
  "language_info": {
   "codemirror_mode": {
    "name": "ipython",
    "version": 3
   },
   "file_extension": ".py",
   "mimetype": "text/x-python",
   "name": "python",
   "nbconvert_exporter": "python",
   "pygments_lexer": "ipython3",
   "version": "3.10.0"
  }
 },
 "nbformat": 4,
 "nbformat_minor": 5
}
