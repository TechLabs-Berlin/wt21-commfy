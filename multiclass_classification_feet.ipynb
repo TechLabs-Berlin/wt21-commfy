{
 "cells": [
  {
   "cell_type": "markdown",
   "id": "d688dd17",
   "metadata": {},
   "source": [
    "# Multiclass Classifier to Predict Feet Items"
   ]
  },
  {
   "cell_type": "markdown",
   "id": "80261010",
   "metadata": {},
   "source": [
    "## Import required modules and load data file"
   ]
  },
  {
   "cell_type": "code",
   "execution_count": null,
   "id": "2e92572e",
   "metadata": {},
   "outputs": [],
   "source": [
    "%matplotlib notebook\n",
    "import numpy as np\n",
    "import matplotlib.pyplot as plt # for plotting\n",
    "import seaborn as sns; sns.set() # for a different plotting theme(histograms)\n",
    "import pandas as pd\n",
    "from sklearn.model_selection import train_test_split\n",
    "from sklearn.datasets import load_digits\n",
    "\n",
    "feets = pd.read.csv('input_data.csv')"
   ]
  },
  {
   "cell_type": "code",
   "execution_count": null,
   "id": "f5e825d8",
   "metadata": {},
   "outputs": [],
   "source": [
    "# to get a quick glance at a data and check if data has been read into a dataframe\n",
    "feets.head()\n"
   ]
  },
  {
   "cell_type": "markdown",
   "id": "590a586c",
   "metadata": {},
   "source": [
    "## Data preprocessing"
   ]
  },
  {
   "cell_type": "code",
   "execution_count": null,
   "id": "f15e8541",
   "metadata": {},
   "outputs": [],
   "source": [
    "# Revealing missing values and handling them\n",
    "# Detecting outliers and handle them accordignly"
   ]
  },
  {
   "cell_type": "markdown",
   "id": "e181aa33",
   "metadata": {},
   "source": [
    "## Conduct descriptive analysis to better understand the ML data"
   ]
  },
  {
   "cell_type": "code",
   "execution_count": 1,
   "id": "7e365210",
   "metadata": {},
   "outputs": [],
   "source": [
    "# review the shape and size of a dataset\n",
    "# reveal the types of attributes by peeking at the raw data\n",
    "# convert strings to floating points or int to represent categorical or ordinal values"
   ]
  },
  {
   "cell_type": "code",
   "execution_count": 2,
   "id": "8d29c76b",
   "metadata": {},
   "outputs": [],
   "source": [
    "# Gain insight into the shape of each attribute by creating summary statistics\n",
    "# Count\n",
    "# Mean\n",
    "# Standard Deviation\n",
    "# 25th Percentile\n",
    "# 50th Percentile\n",
    "# 75th Percentile\n",
    "# Maximum Value"
   ]
  },
  {
   "cell_type": "markdown",
   "id": "82cb6ae8",
   "metadata": {},
   "source": [
    "## Class distribution "
   ]
  },
  {
   "cell_type": "code",
   "execution_count": 4,
   "id": "04758eff",
   "metadata": {},
   "outputs": [],
   "source": [
    "#get an idea of the distribution of the class attribute in Pandas\n"
   ]
  },
  {
   "cell_type": "markdown",
   "id": "7464acad",
   "metadata": {},
   "source": [
    "## Examining data with visuals and gain insights that otherwise would not be possible"
   ]
  },
  {
   "cell_type": "code",
   "execution_count": null,
   "id": "9d076dbc",
   "metadata": {},
   "outputs": [],
   "source": [
    "#plotting a scatter matrix\n",
    "from matplotlib import cm"
   ]
  },
  {
   "cell_type": "code",
   "execution_count": null,
   "id": "89c6a47a",
   "metadata": {},
   "outputs": [],
   "source": [
    "#plotting a 3d scatter plot\n",
    "from mpl_toolkits.mplot3d import Axes3D"
   ]
  },
  {
   "cell_type": "markdown",
   "id": "84e1406d",
   "metadata": {},
   "source": [
    "# Create train-test split"
   ]
  },
  {
   "cell_type": "code",
   "execution_count": null,
   "id": "df0eb347",
   "metadata": {},
   "outputs": [],
   "source": [
    "# for our model we use such features as temperature, rain, snow, wind, sun\n",
    "X = feet[['temp', 'rain', 'snow', 'wind', 'sun']]\n",
    "y = feet['feet_label']\n",
    "\n",
    "# default is 75% / 25% train-test split\n",
    "X_train, X_test, y_train, y_test = train_test_split(X, y, random_state=0)"
   ]
  },
  {
   "cell_type": "markdown",
   "id": "189ba409",
   "metadata": {},
   "source": [
    "## Create a classifier object"
   ]
  },
  {
   "cell_type": "code",
   "execution_count": 5,
   "id": "a323c2ae",
   "metadata": {},
   "outputs": [],
   "source": [
    "# import appropriate module from sklearn lib"
   ]
  },
  {
   "cell_type": "markdown",
   "id": "1aa819fd",
   "metadata": {},
   "source": [
    "## Train the classifier (fit the estimator) using the training data"
   ]
  },
  {
   "cell_type": "code",
   "execution_count": 6,
   "id": "827975e7",
   "metadata": {},
   "outputs": [],
   "source": [
    "# algorithm.fit(X_train, y_train)"
   ]
  },
  {
   "cell_type": "markdown",
   "id": "1100c043",
   "metadata": {},
   "source": [
    "## Estimate the accuracy of the classifier on future data, using the test data"
   ]
  },
  {
   "cell_type": "code",
   "execution_count": 7,
   "id": "79c94064",
   "metadata": {},
   "outputs": [],
   "source": [
    "#algorithm.score(X_test, y_test)"
   ]
  },
  {
   "cell_type": "markdown",
   "id": "b999a8be",
   "metadata": {},
   "source": [
    "## Use the trained classifier model to classify new objects"
   ]
  },
  {
   "cell_type": "code",
   "execution_count": null,
   "id": "a0e3524e",
   "metadata": {},
   "outputs": [],
   "source": [
    "#some code"
   ]
  },
  {
   "cell_type": "markdown",
   "id": "d312c57f",
   "metadata": {},
   "source": [
    "# Evaluation for Classification"
   ]
  },
  {
   "cell_type": "code",
   "execution_count": null,
   "id": "2522096d",
   "metadata": {},
   "outputs": [],
   "source": [
    "# Creating a dataset with imbalanced binary classes:  \n",
    "# Negative class (0) is 'not digit 1' \n",
    "# Positive class (1) is 'digit 1'"
   ]
  },
  {
   "cell_type": "markdown",
   "id": "12238ad0",
   "metadata": {},
   "source": [
    "## Dummy Classifiers\n",
    "DummyClassifier is a classifier that makes predictions using simple rules, which can be useful as a baseline for comparison against actual classifiers, especially with imbalanced classes."
   ]
  },
  {
   "cell_type": "code",
   "execution_count": null,
   "id": "bfb3e39e",
   "metadata": {},
   "outputs": [],
   "source": [
    "from sklearn.dummy import DummyClassifier\n",
    "\n",
    "# Negative class (0) is most frequent\n",
    "dummy_majority = DummyClassifier(strategy = 'most_frequent').fit(X_train, y_train)\n",
    "# Therefore the dummy 'most_frequent' classifier always predicts class 0\n",
    "y_dummy_predictions = dummy_majority.predict(X_test)\n",
    "\n",
    "y_dummy_predictions"
   ]
  },
  {
   "cell_type": "markdown",
   "id": "1d956fdd",
   "metadata": {},
   "source": [
    "## Evaluation measures for multi-class classification\n",
    "### Multi-class confusion matrix\n",
    "### Multi-class classification report\n",
    "### Micro- vs. macro-averaged metrics"
   ]
  }
 ],
 "metadata": {
  "kernelspec": {
   "display_name": "Python 3",
   "language": "python",
   "name": "python3"
  },
  "language_info": {
   "codemirror_mode": {
    "name": "ipython",
    "version": 3
   },
   "file_extension": ".py",
   "mimetype": "text/x-python",
   "name": "python",
   "nbconvert_exporter": "python",
   "pygments_lexer": "ipython3",
   "version": "3.8.8"
  }
 },
 "nbformat": 4,
 "nbformat_minor": 5
}
