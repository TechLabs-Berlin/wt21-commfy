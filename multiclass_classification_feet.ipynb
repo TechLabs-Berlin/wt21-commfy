{
 "cells": [
  {
   "cell_type": "code",
   "execution_count": 115,
   "id": "c481889e",
   "metadata": {},
   "outputs": [],
   "source": [
    "# RUN THIS COMMAND ONLY IF YOU USE GOOGLE COLAB.\n",
    "#from google.colab import drive\n",
    "#drive.mount('/content/drive')"
   ]
  },
  {
   "cell_type": "code",
   "execution_count": 116,
   "id": "64b2d6dc",
   "metadata": {},
   "outputs": [],
   "source": [
    "# RUN THIS COMMAND ONLY IF YOU USE GOOGLE COLAB.\n",
    "#%cd drive/MyDrive/commfy"
   ]
  },
  {
   "cell_type": "markdown",
   "id": "d688dd17",
   "metadata": {},
   "source": [
    "# Multiclass Classifier to Predict Feet Items \n",
    "The objective of this notebook is to build a machine learning model that predicts feet items (shoe & sock combination) by leveraging random forest classifier."
   ]
  },
  {
   "cell_type": "markdown",
   "id": "80261010",
   "metadata": {},
   "source": [
    "## 1. Importing required modules and loading data file\n",
    "In the first section of this notebook, we have to import all neccessary libraries, required modules and essential packages. After running them in this cell, we will be able to use them in subsequent cells throughout the notebook."
   ]
  },
  {
   "cell_type": "code",
   "execution_count": 117,
   "id": "2e92572e",
   "metadata": {},
   "outputs": [],
   "source": [
    "%matplotlib inline\n",
    "import pandas as pd\n",
    "import numpy as np\n",
    "import matplotlib.pyplot as plt # for displaying plots\n",
    "import seaborn as sns; sns.set() # plotting package for histograms\n",
    "from sklearn.model_selection import train_test_split\n",
    "from sklearn.datasets import load_digits\n",
    "from sklearn.ensemble import RandomForestClassifier\n",
    "from sklearn.datasets import make_classification\n",
    "from sklearn.neighbors import KNeighborsClassifier\n",
    "from sklearn.dummy import DummyClassifier\n",
    "from sklearn import metrics\n",
    "from matplotlib import cm #for creating color maps"
   ]
  },
  {
   "cell_type": "code",
   "execution_count": 118,
   "id": "2d506ca6",
   "metadata": {},
   "outputs": [],
   "source": [
    "#skipping some rows and reading only relevant parts into dataframe\n",
    "feets = pd.read_csv('input_data.csv', skiprows=2) \n",
    "#starting index from 1 in dataframe\n",
    "feets.index = feets.index + 1 "
   ]
  },
  {
   "cell_type": "markdown",
   "id": "590a586c",
   "metadata": {},
   "source": [
    "## 2. Exploratory data analysis (EDA) and data cleaning\n",
    "In this section, it is essential to conduct the initial investigations on data to discover the patterns, identify outliers and spot noises with the help of summary statistics and graphical representations. The goal of EDA is to summarize the important characteristics of data in order to gain better understanding of the dataset and prepare data for machine learning."
   ]
  },
  {
   "cell_type": "markdown",
   "id": "10185d57",
   "metadata": {},
   "source": [
    "### The first step in EDA is to get familiar with dataset\n",
    "After importing the dataset, we get a quick glance at a data and check the shape of a dataset."
   ]
  },
  {
   "cell_type": "code",
   "execution_count": 119,
   "id": "6b79f211",
   "metadata": {},
   "outputs": [
    {
     "data": {
      "text/html": [
       "<div>\n",
       "<style scoped>\n",
       "    .dataframe tbody tr th:only-of-type {\n",
       "        vertical-align: middle;\n",
       "    }\n",
       "\n",
       "    .dataframe tbody tr th {\n",
       "        vertical-align: top;\n",
       "    }\n",
       "\n",
       "    .dataframe thead th {\n",
       "        text-align: right;\n",
       "    }\n",
       "</style>\n",
       "<table border=\"1\" class=\"dataframe\">\n",
       "  <thead>\n",
       "    <tr style=\"text-align: right;\">\n",
       "      <th></th>\n",
       "      <th>Unnamed: 0</th>\n",
       "      <th>a</th>\n",
       "      <th>b</th>\n",
       "      <th>c</th>\n",
       "      <th>d</th>\n",
       "      <th>e</th>\n",
       "      <th>f</th>\n",
       "    </tr>\n",
       "  </thead>\n",
       "  <tbody>\n",
       "    <tr>\n",
       "      <th>1</th>\n",
       "      <td>0</td>\n",
       "      <td>23.633087</td>\n",
       "      <td>1.0</td>\n",
       "      <td>cloudy</td>\n",
       "      <td>1.0</td>\n",
       "      <td>1.0</td>\n",
       "      <td>-2</td>\n",
       "    </tr>\n",
       "    <tr>\n",
       "      <th>2</th>\n",
       "      <td>1</td>\n",
       "      <td>38.742237</td>\n",
       "      <td>1.0</td>\n",
       "      <td>sunny</td>\n",
       "      <td>0.0</td>\n",
       "      <td>1.0</td>\n",
       "      <td>0</td>\n",
       "    </tr>\n",
       "    <tr>\n",
       "      <th>3</th>\n",
       "      <td>2</td>\n",
       "      <td>NaN</td>\n",
       "      <td>1.0</td>\n",
       "      <td>sunny</td>\n",
       "      <td>1.0</td>\n",
       "      <td>2.0</td>\n",
       "      <td>2</td>\n",
       "    </tr>\n",
       "    <tr>\n",
       "      <th>4</th>\n",
       "      <td>3</td>\n",
       "      <td>22.249957</td>\n",
       "      <td>1.0</td>\n",
       "      <td>sunny</td>\n",
       "      <td>0.0</td>\n",
       "      <td>1.0</td>\n",
       "      <td>-5</td>\n",
       "    </tr>\n",
       "    <tr>\n",
       "      <th>5</th>\n",
       "      <td>4</td>\n",
       "      <td>27.007875</td>\n",
       "      <td>1.0</td>\n",
       "      <td>cloudy</td>\n",
       "      <td>0.0</td>\n",
       "      <td>0.0</td>\n",
       "      <td>-2</td>\n",
       "    </tr>\n",
       "  </tbody>\n",
       "</table>\n",
       "</div>"
      ],
      "text/plain": [
       "   Unnamed: 0          a    b       c    d    e  f\n",
       "1           0  23.633087  1.0  cloudy  1.0  1.0 -2\n",
       "2           1  38.742237  1.0   sunny  0.0  1.0  0\n",
       "3           2        NaN  1.0   sunny  1.0  2.0  2\n",
       "4           3  22.249957  1.0   sunny  0.0  1.0 -5\n",
       "5           4  27.007875  1.0  cloudy  0.0  0.0 -2"
      ]
     },
     "execution_count": 119,
     "metadata": {},
     "output_type": "execute_result"
    }
   ],
   "source": [
    "#see the first view of a dataset & check if data has been read into a dataframe object\n",
    "feets.head()"
   ]
  },
  {
   "cell_type": "code",
   "execution_count": 120,
   "id": "46b49d91",
   "metadata": {},
   "outputs": [],
   "source": [
    "#renaming the columns with self-explanatory titles\n",
    "feets.rename({\"a\": \"temperature\", \"b\": \"feet_class\", \"c\": \"weather\",\"d\": \"sex\", \"e\":\"heaviness_trip\", \"f\":\"heat_perception\"},axis = 1, inplace = True)"
   ]
  },
  {
   "cell_type": "code",
   "execution_count": 121,
   "id": "7123fd1c",
   "metadata": {},
   "outputs": [],
   "source": [
    "#slicing out the unneccesary column\n",
    "feets = feets.iloc[: , 1:] "
   ]
  },
  {
   "cell_type": "code",
   "execution_count": 122,
   "id": "621fdc12",
   "metadata": {},
   "outputs": [],
   "source": [
    "#drop rows with NaN values\n",
    "feets.dropna(inplace = True)"
   ]
  },
  {
   "cell_type": "code",
   "execution_count": 123,
   "id": "ae2022b1",
   "metadata": {},
   "outputs": [
    {
     "name": "stdout",
     "output_type": "stream",
     "text": [
      "<class 'pandas.core.frame.DataFrame'>\n",
      "Int64Index: 24988 entries, 1 to 25000\n",
      "Data columns (total 6 columns):\n",
      " #   Column           Non-Null Count  Dtype  \n",
      "---  ------           --------------  -----  \n",
      " 0   temperature      24988 non-null  float64\n",
      " 1   feet_class       24988 non-null  float64\n",
      " 2   weather          24988 non-null  object \n",
      " 3   sex              24988 non-null  float64\n",
      " 4   heaviness_trip   24988 non-null  float64\n",
      " 5   heat_perception  24988 non-null  int64  \n",
      "dtypes: float64(4), int64(1), object(1)\n",
      "memory usage: 1.3+ MB\n"
     ]
    }
   ],
   "source": [
    "#find out the columns & their corresponding data types\n",
    "feets.info()"
   ]
  },
  {
   "cell_type": "code",
   "execution_count": 124,
   "id": "4719c3a4",
   "metadata": {},
   "outputs": [
    {
     "data": {
      "text/plain": [
       "temperature        float64\n",
       "feet_class           int64\n",
       "weather             object\n",
       "sex                  int64\n",
       "heaviness_trip       int64\n",
       "heat_perception      int64\n",
       "dtype: object"
      ]
     },
     "metadata": {},
     "output_type": "display_data"
    }
   ],
   "source": [
    "#converting feet_class, sex and heaviness_trip from float to int\n",
    "feets = feets.astype({\"feet_class\":'int', \"sex\":'int', \"heaviness_trip\": 'int'}) \n",
    "display(feets.dtypes)"
   ]
  },
  {
   "cell_type": "code",
   "execution_count": 125,
   "id": "369c84a8",
   "metadata": {},
   "outputs": [
    {
     "data": {
      "text/plain": [
       "array(['cloudy', 'sunny', 'sunnny', 'cloudi', 'Sunny', 'snowy', 'rainy',\n",
       "       'rayny', 'raiiny'], dtype=object)"
      ]
     },
     "execution_count": 125,
     "metadata": {},
     "output_type": "execute_result"
    }
   ],
   "source": [
    "#getting unique values of the weather series object to spot the typos of the values\n",
    "feets['weather'].unique()"
   ]
  },
  {
   "cell_type": "code",
   "execution_count": 126,
   "id": "cdcd652d",
   "metadata": {},
   "outputs": [],
   "source": [
    "#harmonising values in weather state column with df.replace()\n",
    "feets.replace(['cloudi', 'sunnny','Sunny', 'rayny','raiiny'], ['cloudy', 'sunny', 'sunny', 'rainy','rainy'],inplace=True)"
   ]
  },
  {
   "cell_type": "code",
   "execution_count": 127,
   "id": "467655f2",
   "metadata": {},
   "outputs": [
    {
     "data": {
      "text/plain": [
       "array(['cloudy', 'sunny', 'snowy', 'rainy'], dtype=object)"
      ]
     },
     "execution_count": 127,
     "metadata": {},
     "output_type": "execute_result"
    }
   ],
   "source": [
    "#check if the changes have been placed\n",
    "feets['weather'].unique()"
   ]
  },
  {
   "cell_type": "code",
   "execution_count": 141,
   "id": "45412bf0",
   "metadata": {},
   "outputs": [
    {
     "data": {
      "text/html": [
       "<div>\n",
       "<style scoped>\n",
       "    .dataframe tbody tr th:only-of-type {\n",
       "        vertical-align: middle;\n",
       "    }\n",
       "\n",
       "    .dataframe tbody tr th {\n",
       "        vertical-align: top;\n",
       "    }\n",
       "\n",
       "    .dataframe thead th {\n",
       "        text-align: right;\n",
       "    }\n",
       "</style>\n",
       "<table border=\"1\" class=\"dataframe\">\n",
       "  <thead>\n",
       "    <tr style=\"text-align: right;\">\n",
       "      <th></th>\n",
       "      <th>temperature</th>\n",
       "      <th>feet_class</th>\n",
       "      <th>weather</th>\n",
       "      <th>sex</th>\n",
       "      <th>heaviness_trip</th>\n",
       "      <th>heat_perception</th>\n",
       "    </tr>\n",
       "  </thead>\n",
       "  <tbody>\n",
       "    <tr>\n",
       "      <th>1</th>\n",
       "      <td>23.633087</td>\n",
       "      <td>1</td>\n",
       "      <td>cloudy</td>\n",
       "      <td>1</td>\n",
       "      <td>1</td>\n",
       "      <td>-2</td>\n",
       "    </tr>\n",
       "    <tr>\n",
       "      <th>2</th>\n",
       "      <td>38.742237</td>\n",
       "      <td>1</td>\n",
       "      <td>sunny</td>\n",
       "      <td>0</td>\n",
       "      <td>1</td>\n",
       "      <td>0</td>\n",
       "    </tr>\n",
       "    <tr>\n",
       "      <th>4</th>\n",
       "      <td>22.249957</td>\n",
       "      <td>1</td>\n",
       "      <td>sunny</td>\n",
       "      <td>0</td>\n",
       "      <td>1</td>\n",
       "      <td>-5</td>\n",
       "    </tr>\n",
       "    <tr>\n",
       "      <th>5</th>\n",
       "      <td>27.007875</td>\n",
       "      <td>1</td>\n",
       "      <td>cloudy</td>\n",
       "      <td>0</td>\n",
       "      <td>0</td>\n",
       "      <td>-2</td>\n",
       "    </tr>\n",
       "    <tr>\n",
       "      <th>6</th>\n",
       "      <td>37.733175</td>\n",
       "      <td>1</td>\n",
       "      <td>sunny</td>\n",
       "      <td>1</td>\n",
       "      <td>1</td>\n",
       "      <td>0</td>\n",
       "    </tr>\n",
       "    <tr>\n",
       "      <th>8</th>\n",
       "      <td>29.576284</td>\n",
       "      <td>1</td>\n",
       "      <td>cloudy</td>\n",
       "      <td>0</td>\n",
       "      <td>0</td>\n",
       "      <td>2</td>\n",
       "    </tr>\n",
       "    <tr>\n",
       "      <th>9</th>\n",
       "      <td>20.621831</td>\n",
       "      <td>1</td>\n",
       "      <td>cloudy</td>\n",
       "      <td>0</td>\n",
       "      <td>0</td>\n",
       "      <td>0</td>\n",
       "    </tr>\n",
       "    <tr>\n",
       "      <th>10</th>\n",
       "      <td>26.420650</td>\n",
       "      <td>1</td>\n",
       "      <td>cloudy</td>\n",
       "      <td>1</td>\n",
       "      <td>2</td>\n",
       "      <td>44</td>\n",
       "    </tr>\n",
       "    <tr>\n",
       "      <th>11</th>\n",
       "      <td>32.254068</td>\n",
       "      <td>1</td>\n",
       "      <td>sunny</td>\n",
       "      <td>0</td>\n",
       "      <td>0</td>\n",
       "      <td>4</td>\n",
       "    </tr>\n",
       "    <tr>\n",
       "      <th>12</th>\n",
       "      <td>23.861613</td>\n",
       "      <td>1</td>\n",
       "      <td>sunny</td>\n",
       "      <td>0</td>\n",
       "      <td>0</td>\n",
       "      <td>-4</td>\n",
       "    </tr>\n",
       "    <tr>\n",
       "      <th>13</th>\n",
       "      <td>14.591819</td>\n",
       "      <td>1</td>\n",
       "      <td>sunny</td>\n",
       "      <td>0</td>\n",
       "      <td>1</td>\n",
       "      <td>-2</td>\n",
       "    </tr>\n",
       "    <tr>\n",
       "      <th>14</th>\n",
       "      <td>23.842098</td>\n",
       "      <td>1</td>\n",
       "      <td>sunny</td>\n",
       "      <td>1</td>\n",
       "      <td>2</td>\n",
       "      <td>-4</td>\n",
       "    </tr>\n",
       "    <tr>\n",
       "      <th>15</th>\n",
       "      <td>32.047477</td>\n",
       "      <td>1</td>\n",
       "      <td>cloudy</td>\n",
       "      <td>0</td>\n",
       "      <td>0</td>\n",
       "      <td>-2</td>\n",
       "    </tr>\n",
       "    <tr>\n",
       "      <th>16</th>\n",
       "      <td>27.309360</td>\n",
       "      <td>1</td>\n",
       "      <td>sunny</td>\n",
       "      <td>1</td>\n",
       "      <td>1</td>\n",
       "      <td>5</td>\n",
       "    </tr>\n",
       "    <tr>\n",
       "      <th>17</th>\n",
       "      <td>26.571394</td>\n",
       "      <td>1</td>\n",
       "      <td>cloudy</td>\n",
       "      <td>2</td>\n",
       "      <td>2</td>\n",
       "      <td>4</td>\n",
       "    </tr>\n",
       "    <tr>\n",
       "      <th>18</th>\n",
       "      <td>16.433309</td>\n",
       "      <td>1</td>\n",
       "      <td>sunny</td>\n",
       "      <td>1</td>\n",
       "      <td>1</td>\n",
       "      <td>-3</td>\n",
       "    </tr>\n",
       "    <tr>\n",
       "      <th>19</th>\n",
       "      <td>27.676672</td>\n",
       "      <td>1</td>\n",
       "      <td>cloudy</td>\n",
       "      <td>1</td>\n",
       "      <td>2</td>\n",
       "      <td>2</td>\n",
       "    </tr>\n",
       "    <tr>\n",
       "      <th>20</th>\n",
       "      <td>28.588161</td>\n",
       "      <td>1</td>\n",
       "      <td>sunny</td>\n",
       "      <td>1</td>\n",
       "      <td>1</td>\n",
       "      <td>0</td>\n",
       "    </tr>\n",
       "    <tr>\n",
       "      <th>21</th>\n",
       "      <td>27.444239</td>\n",
       "      <td>1</td>\n",
       "      <td>sunny</td>\n",
       "      <td>1</td>\n",
       "      <td>2</td>\n",
       "      <td>-1</td>\n",
       "    </tr>\n",
       "    <tr>\n",
       "      <th>22</th>\n",
       "      <td>35.319499</td>\n",
       "      <td>1</td>\n",
       "      <td>sunny</td>\n",
       "      <td>2</td>\n",
       "      <td>2</td>\n",
       "      <td>3</td>\n",
       "    </tr>\n",
       "  </tbody>\n",
       "</table>\n",
       "</div>"
      ],
      "text/plain": [
       "    temperature  feet_class weather  sex  heaviness_trip  heat_perception\n",
       "1     23.633087           1  cloudy    1               1               -2\n",
       "2     38.742237           1   sunny    0               1                0\n",
       "4     22.249957           1   sunny    0               1               -5\n",
       "5     27.007875           1  cloudy    0               0               -2\n",
       "6     37.733175           1   sunny    1               1                0\n",
       "8     29.576284           1  cloudy    0               0                2\n",
       "9     20.621831           1  cloudy    0               0                0\n",
       "10    26.420650           1  cloudy    1               2               44\n",
       "11    32.254068           1   sunny    0               0                4\n",
       "12    23.861613           1   sunny    0               0               -4\n",
       "13    14.591819           1   sunny    0               1               -2\n",
       "14    23.842098           1   sunny    1               2               -4\n",
       "15    32.047477           1  cloudy    0               0               -2\n",
       "16    27.309360           1   sunny    1               1                5\n",
       "17    26.571394           1  cloudy    2               2                4\n",
       "18    16.433309           1   sunny    1               1               -3\n",
       "19    27.676672           1  cloudy    1               2                2\n",
       "20    28.588161           1   sunny    1               1                0\n",
       "21    27.444239           1   sunny    1               2               -1\n",
       "22    35.319499           1   sunny    2               2                3"
      ]
     },
     "execution_count": 141,
     "metadata": {},
     "output_type": "execute_result"
    }
   ],
   "source": [
    "feets.head(20)"
   ]
  },
  {
   "cell_type": "markdown",
   "id": "e181aa33",
   "metadata": {},
   "source": [
    "### The third step is to conduct descriptive statistics of a datatset.\n",
    "We call the describe() function to gain insights into the shape of each attribute by creating summary statistics by viewing central tendency, mean, median, standard deviation, percentile and max values."
   ]
  },
  {
   "cell_type": "code",
   "execution_count": 133,
   "id": "7e365210",
   "metadata": {},
   "outputs": [
    {
     "data": {
      "text/html": [
       "<div>\n",
       "<style scoped>\n",
       "    .dataframe tbody tr th:only-of-type {\n",
       "        vertical-align: middle;\n",
       "    }\n",
       "\n",
       "    .dataframe tbody tr th {\n",
       "        vertical-align: top;\n",
       "    }\n",
       "\n",
       "    .dataframe thead th {\n",
       "        text-align: right;\n",
       "    }\n",
       "</style>\n",
       "<table border=\"1\" class=\"dataframe\">\n",
       "  <thead>\n",
       "    <tr style=\"text-align: right;\">\n",
       "      <th></th>\n",
       "      <th>temperature</th>\n",
       "      <th>feet_class</th>\n",
       "      <th>sex</th>\n",
       "      <th>heaviness_trip</th>\n",
       "      <th>heat_perception</th>\n",
       "    </tr>\n",
       "  </thead>\n",
       "  <tbody>\n",
       "    <tr>\n",
       "      <th>count</th>\n",
       "      <td>24988.000000</td>\n",
       "      <td>24988.000000</td>\n",
       "      <td>24988.000000</td>\n",
       "      <td>24988.000000</td>\n",
       "      <td>24988.000000</td>\n",
       "    </tr>\n",
       "    <tr>\n",
       "      <th>mean</th>\n",
       "      <td>9.206686</td>\n",
       "      <td>3.000000</td>\n",
       "      <td>0.529974</td>\n",
       "      <td>0.999920</td>\n",
       "      <td>0.026253</td>\n",
       "    </tr>\n",
       "    <tr>\n",
       "      <th>std</th>\n",
       "      <td>15.723573</td>\n",
       "      <td>1.414242</td>\n",
       "      <td>0.537636</td>\n",
       "      <td>0.816497</td>\n",
       "      <td>3.182882</td>\n",
       "    </tr>\n",
       "    <tr>\n",
       "      <th>min</th>\n",
       "      <td>-17.192980</td>\n",
       "      <td>1.000000</td>\n",
       "      <td>0.000000</td>\n",
       "      <td>0.000000</td>\n",
       "      <td>-5.000000</td>\n",
       "    </tr>\n",
       "    <tr>\n",
       "      <th>25%</th>\n",
       "      <td>-5.509675</td>\n",
       "      <td>2.000000</td>\n",
       "      <td>0.000000</td>\n",
       "      <td>0.000000</td>\n",
       "      <td>-3.000000</td>\n",
       "    </tr>\n",
       "    <tr>\n",
       "      <th>50%</th>\n",
       "      <td>5.538684</td>\n",
       "      <td>3.000000</td>\n",
       "      <td>1.000000</td>\n",
       "      <td>1.000000</td>\n",
       "      <td>0.000000</td>\n",
       "    </tr>\n",
       "    <tr>\n",
       "      <th>75%</th>\n",
       "      <td>24.473846</td>\n",
       "      <td>4.000000</td>\n",
       "      <td>1.000000</td>\n",
       "      <td>2.000000</td>\n",
       "      <td>3.000000</td>\n",
       "    </tr>\n",
       "    <tr>\n",
       "      <th>max</th>\n",
       "      <td>55.272944</td>\n",
       "      <td>5.000000</td>\n",
       "      <td>2.000000</td>\n",
       "      <td>2.000000</td>\n",
       "      <td>44.000000</td>\n",
       "    </tr>\n",
       "  </tbody>\n",
       "</table>\n",
       "</div>"
      ],
      "text/plain": [
       "        temperature    feet_class           sex  heaviness_trip  \\\n",
       "count  24988.000000  24988.000000  24988.000000    24988.000000   \n",
       "mean       9.206686      3.000000      0.529974        0.999920   \n",
       "std       15.723573      1.414242      0.537636        0.816497   \n",
       "min      -17.192980      1.000000      0.000000        0.000000   \n",
       "25%       -5.509675      2.000000      0.000000        0.000000   \n",
       "50%        5.538684      3.000000      1.000000        1.000000   \n",
       "75%       24.473846      4.000000      1.000000        2.000000   \n",
       "max       55.272944      5.000000      2.000000        2.000000   \n",
       "\n",
       "       heat_perception  \n",
       "count     24988.000000  \n",
       "mean          0.026253  \n",
       "std           3.182882  \n",
       "min          -5.000000  \n",
       "25%          -3.000000  \n",
       "50%           0.000000  \n",
       "75%           3.000000  \n",
       "max          44.000000  "
      ]
     },
     "execution_count": 133,
     "metadata": {},
     "output_type": "execute_result"
    }
   ],
   "source": [
    "feets.describe() #for the statistical summary of numerical data"
   ]
  },
  {
   "cell_type": "markdown",
   "id": "9fc162bd",
   "metadata": {},
   "source": [
    "### The fourth step is to create a bar chart.\n",
    "Plotting the bar chart will show the class distribution of the independent variables (x axis distinct items, y axis frequency). "
   ]
  },
  {
   "cell_type": "code",
   "execution_count": null,
   "id": "f14a4e70",
   "metadata": {},
   "outputs": [],
   "source": [
    "#bar chart"
   ]
  },
  {
   "cell_type": "markdown",
   "id": "9b7aaf43",
   "metadata": {},
   "source": [
    "### This fifth step is to plot histograms/kernel density plots for each variables. \n",
    "This visualization technique will enable us to see how frequently data in each class occur in the dataset. Namely, it will graphically show the frequency of different data points in the dataset, location of the center of data, the spread of dataset, skewness of dataset and presence of outliers."
   ]
  },
  {
   "cell_type": "code",
   "execution_count": 98,
   "id": "c2193add",
   "metadata": {},
   "outputs": [
    {
     "data": {
      "text/plain": [
       "Text(0.5, 1.0, 'Histogram of temperature')"
      ]
     },
     "execution_count": 98,
     "metadata": {},
     "output_type": "execute_result"
    },
    {
     "data": {
      "image/png": "[encoded data removed]",
      "text/plain": [
       "<Figure size 432x288 with 1 Axes>"
      ]
     },
     "metadata": {},
     "output_type": "display_data"
    }
   ],
   "source": [
    "#histograms - for quantitative data\n",
    "sns.histplot(feets[\"temperature\"], kde = False).set_title(\"Histogram of temperature\")\n",
    "#kde - by default always includes are density plot. if it visually distracts, you can set the parameter kde into false.        \n"
   ]
  },
  {
   "cell_type": "code",
   "execution_count": 99,
   "id": "54c5dcda",
   "metadata": {},
   "outputs": [
    {
     "data": {
      "image/png": "[encoded data removed]",
      "text/plain": [
       "<Figure size 216x1080 with 5 Axes>"
      ]
     },
     "metadata": {},
     "output_type": "display_data"
    }
   ],
   "source": [
    "g = sns.FacetGrid(feets, row = \"feet_class\")\n",
    "g = g.map(plt.hist, \"temperature\")\n",
    "plt.show()"
   ]
  },
  {
   "cell_type": "code",
   "execution_count": 100,
   "id": "8d785781",
   "metadata": {},
   "outputs": [],
   "source": [
    "#g = sns.FacetGrid(feets, row ='temperature')\n",
    "#g.map(plt.hist, 'value')\n",
    "#plt.show()\n",
    "#build multiplot grids based on above example"
   ]
  },
  {
   "cell_type": "code",
   "execution_count": 101,
   "id": "704a01e1",
   "metadata": {},
   "outputs": [
    {
     "data": {
      "text/plain": [
       "<AxesSubplot:title={'center':'temperature'}, xlabel='feet_class'>"
      ]
     },
     "execution_count": 101,
     "metadata": {},
     "output_type": "execute_result"
    },
    {
     "data": {
      "image/png": "[encoded data removed]",
      "text/plain": [
       "<Figure size 432x288 with 1 Axes>"
      ]
     },
     "metadata": {},
     "output_type": "display_data"
    }
   ],
   "source": [
    "feets.boxplot(by ='feet_class', column =['temperature'], grid = False)"
   ]
  },
  {
   "cell_type": "markdown",
   "id": "c17c52e9",
   "metadata": {},
   "source": [
    "### The sixth step in this section is to create a boxplot for input features.\n",
    "This way, we get an even better idea about the centre of the distribution as well as verify potential outliers that we have detected in histograms"
   ]
  },
  {
   "cell_type": "code",
   "execution_count": 102,
   "id": "b752f531",
   "metadata": {},
   "outputs": [
    {
     "data": {
      "image/png": "[encoded data removed]",
      "text/plain": [
       "<Figure size 432x288 with 1 Axes>"
      ]
     },
     "metadata": {},
     "output_type": "display_data"
    }
   ],
   "source": [
    "#create a box plot for input features\n",
    "sns.boxplot(x = 'temperature',data=feets).set_title(\"Box plot of the temperature\")\n",
    "plt.show()"
   ]
  },
  {
   "cell_type": "markdown",
   "id": "cd716c34",
   "metadata": {},
   "source": [
    "### The last step of this section checks the correlation between features in a dataset by calling df.corr()"
   ]
  },
  {
   "cell_type": "markdown",
   "id": "415ee0c7",
   "metadata": {},
   "source": [
    " \n",
    " It calculates the correlation between features pairwise excluding null values. Thus, we will gain understanding on one or multiple attributes that might be dependent on another attribute or a cause for another attribute.Feature correlations matter in predicting one attribute from another.\n",
    "\n",
    "The cell computes a correlation matrix (Max's note: be mindful of the type of correlation and the scale level of the variable, pearson vs. spearman correlation)"
   ]
  },
  {
   "cell_type": "code",
   "execution_count": 103,
   "id": "e6a02c99",
   "metadata": {},
   "outputs": [
    {
     "data": {
      "text/html": [
       "<div>\n",
       "<style scoped>\n",
       "    .dataframe tbody tr th:only-of-type {\n",
       "        vertical-align: middle;\n",
       "    }\n",
       "\n",
       "    .dataframe tbody tr th {\n",
       "        vertical-align: top;\n",
       "    }\n",
       "\n",
       "    .dataframe thead th {\n",
       "        text-align: right;\n",
       "    }\n",
       "</style>\n",
       "<table border=\"1\" class=\"dataframe\">\n",
       "  <thead>\n",
       "    <tr style=\"text-align: right;\">\n",
       "      <th></th>\n",
       "      <th>temperature</th>\n",
       "      <th>feet_class</th>\n",
       "      <th>sex</th>\n",
       "      <th>heaviness_trip</th>\n",
       "      <th>heat_perception</th>\n",
       "    </tr>\n",
       "  </thead>\n",
       "  <tbody>\n",
       "    <tr>\n",
       "      <th>temperature</th>\n",
       "      <td>1.000000</td>\n",
       "      <td>-0.441527</td>\n",
       "      <td>0.033668</td>\n",
       "      <td>0.032112</td>\n",
       "      <td>0.078152</td>\n",
       "    </tr>\n",
       "    <tr>\n",
       "      <th>feet_class</th>\n",
       "      <td>-0.441527</td>\n",
       "      <td>1.000000</td>\n",
       "      <td>0.004790</td>\n",
       "      <td>0.004610</td>\n",
       "      <td>0.001823</td>\n",
       "    </tr>\n",
       "    <tr>\n",
       "      <th>sex</th>\n",
       "      <td>0.033668</td>\n",
       "      <td>0.004790</td>\n",
       "      <td>1.000000</td>\n",
       "      <td>0.804565</td>\n",
       "      <td>0.010649</td>\n",
       "    </tr>\n",
       "    <tr>\n",
       "      <th>heaviness_trip</th>\n",
       "      <td>0.032112</td>\n",
       "      <td>0.004610</td>\n",
       "      <td>0.804565</td>\n",
       "      <td>1.000000</td>\n",
       "      <td>0.004451</td>\n",
       "    </tr>\n",
       "    <tr>\n",
       "      <th>heat_perception</th>\n",
       "      <td>0.078152</td>\n",
       "      <td>0.001823</td>\n",
       "      <td>0.010649</td>\n",
       "      <td>0.004451</td>\n",
       "      <td>1.000000</td>\n",
       "    </tr>\n",
       "  </tbody>\n",
       "</table>\n",
       "</div>"
      ],
      "text/plain": [
       "                 temperature  feet_class       sex  heaviness_trip  \\\n",
       "temperature         1.000000   -0.441527  0.033668        0.032112   \n",
       "feet_class         -0.441527    1.000000  0.004790        0.004610   \n",
       "sex                 0.033668    0.004790  1.000000        0.804565   \n",
       "heaviness_trip      0.032112    0.004610  0.804565        1.000000   \n",
       "heat_perception     0.078152    0.001823  0.010649        0.004451   \n",
       "\n",
       "                 heat_perception  \n",
       "temperature             0.078152  \n",
       "feet_class              0.001823  \n",
       "sex                     0.010649  \n",
       "heaviness_trip          0.004451  \n",
       "heat_perception         1.000000  "
      ]
     },
     "execution_count": 103,
     "metadata": {},
     "output_type": "execute_result"
    }
   ],
   "source": [
    "feets.corr()# to reveal whether correlation is positive, negative\n",
    "#or non-existent. \n",
    "#Read more on correlation matrix to interpret Max's note above. "
   ]
  },
  {
   "cell_type": "markdown",
   "id": "870a5b7d",
   "metadata": {},
   "source": [
    "\n",
    "## 3. Data pre-processing\n",
    "In this section we will preapre machine learning data by splitting data to three datatsets: train-set, validation- and test-sets. The third set is important to test the final performance of the model. It is used only  on the fine-tuned model. Once it is used, it loses its \"value\"."
   ]
  },
  {
   "cell_type": "markdown",
   "id": "1391461a",
   "metadata": {},
   "source": [
    "### In the first of this section, we will create machine learning datatsets."
   ]
  },
  {
   "cell_type": "markdown",
   "id": "2f1de51a",
   "metadata": {},
   "source": [
    "Create a train/validation/test split (e.g., 50%, 25%, 25% according to Hastie et al. (2009, p. 222)."
   ]
  },
  {
   "cell_type": "code",
   "execution_count": 104,
   "id": "a64e7bd5",
   "metadata": {},
   "outputs": [],
   "source": [
    "# for our model we use such output data as temperature, sex, heat perception and weather state\n",
    "X = feets[['temperature', 'sex', 'heat_perception','heaviness_trip']]\n",
    "y = feets['feet_class']\n",
    "\n",
    "# default is 75% / 25% train-test split\n",
    "X_train, X_test, y_train, y_test = train_test_split(X, y, random_state=0)"
   ]
  },
  {
   "cell_type": "code",
   "execution_count": 105,
   "id": "03c4bcda",
   "metadata": {},
   "outputs": [
    {
     "data": {
      "image/png": "[encoded data removed]",
      "text/plain": [
       "<Figure size 648x648 with 16 Axes>"
      ]
     },
     "metadata": {},
     "output_type": "display_data"
    }
   ],
   "source": [
    "cmap = cm.get_cmap('gnuplot')\n",
    "scatter = pd.plotting.scatter_matrix(X_train, c= y_train, marker = 'o', s=40, hist_kwds={'bins':15}, figsize=(9,9), cmap=cmap)"
   ]
  },
  {
   "cell_type": "markdown",
   "id": "edec22a4",
   "metadata": {},
   "source": [
    "### Select the algorithms and create a classifier object"
   ]
  },
  {
   "cell_type": "code",
   "execution_count": null,
   "id": "ca297366",
   "metadata": {},
   "outputs": [],
   "source": [
    "#find corresponding code that would create classifier object for the \n",
    "#following algorithms\n",
    "#knn = \n",
    "#dummy_classifier=\n",
    "#random_forest_classifier ="
   ]
  },
  {
   "cell_type": "markdown",
   "id": "82cb6ae8",
   "metadata": {},
   "source": [
    "## 4. Model training\n",
    "In this section, we will feed the ML algorithms with data to help identify and learn good values for all attributed involved. "
   ]
  },
  {
   "cell_type": "markdown",
   "id": "130543c0",
   "metadata": {},
   "source": [
    "### Dummy Classifiers\n",
    "DummyClassifier is a classifier that makes predictions using simple rules, which can be useful as a baseline for comparison against actual classifiers, especially with imbalanced classes."
   ]
  },
  {
   "cell_type": "code",
   "execution_count": 18,
   "id": "3fb3974f",
   "metadata": {},
   "outputs": [
    {
     "data": {
      "text/plain": [
       "array([4., 4., 4., ..., 4., 4., 4.])"
      ]
     },
     "execution_count": 18,
     "metadata": {},
     "output_type": "execute_result"
    }
   ],
   "source": [
    "# Negative class (0) is most frequent\n",
    "dummy_majority = DummyClassifier(strategy = 'most_frequent').fit(X_train, y_train)\n",
    "# Therefore the dummy 'most_frequent' classifier always predicts class 0\n",
    "y_dummy_predictions = dummy_majority.predict(X_test)\n",
    "\n",
    "y_dummy_predictions"
   ]
  },
  {
   "cell_type": "markdown",
   "id": "bdaf4902",
   "metadata": {},
   "source": [
    "### K-Nearest Neighbours Classification"
   ]
  },
  {
   "cell_type": "code",
   "execution_count": 19,
   "id": "755f6c51",
   "metadata": {},
   "outputs": [],
   "source": [
    "knn = KNeighborsClassifier(n_neighbors = 32)"
   ]
  },
  {
   "cell_type": "code",
   "execution_count": 20,
   "id": "5393c603",
   "metadata": {},
   "outputs": [
    {
     "data": {
      "text/plain": [
       "KNeighborsClassifier(n_neighbors=32)"
      ]
     },
     "execution_count": 20,
     "metadata": {},
     "output_type": "execute_result"
    }
   ],
   "source": [
    "knn.fit(X_train, y_train)"
   ]
  },
  {
   "cell_type": "code",
   "execution_count": 21,
   "id": "ba9cd799",
   "metadata": {},
   "outputs": [
    {
     "data": {
      "text/plain": [
       "0.6292620457819753"
      ]
     },
     "execution_count": 21,
     "metadata": {},
     "output_type": "execute_result"
    }
   ],
   "source": [
    "knn.score(X_test, y_test)"
   ]
  },
  {
   "cell_type": "code",
   "execution_count": 22,
   "id": "b546a2f9",
   "metadata": {},
   "outputs": [
    {
     "data": {
      "image/png": "[encoded data removed]",
      "text/plain": [
       "<Figure size 432x288 with 1 Axes>"
      ]
     },
     "metadata": {},
     "output_type": "display_data"
    }
   ],
   "source": [
    "k_range = range(1,40)\n",
    "scores = []\n",
    "\n",
    "for k in k_range:\n",
    "    knn = KNeighborsClassifier(n_neighbors = k)\n",
    "    knn.fit(X_train, y_train)\n",
    "    scores.append(knn.score(X_test, y_test))\n",
    "\n",
    "plt.figure()\n",
    "plt.xlabel('k')\n",
    "plt.ylabel('accuracy')\n",
    "plt.scatter(k_range, scores)\n",
    "plt.xticks([0,5,10,15,20,25,30,35,40,45,50]);"
   ]
  },
  {
   "cell_type": "code",
   "execution_count": null,
   "id": "57412114",
   "metadata": {},
   "outputs": [],
   "source": [
    "#alter the following code to meet our needs\n",
    "\n",
    "plot_two_class_knn(X_train, y_train, 1, 'uniform', X_test, y_test)\n",
    "plot_two_class_knn(X_train, y_train, 3, 'uniform', X_test, y_test)\n",
    "plot_two_class_knn(X_train, y_train, 11, 'uniform', X_test, y_test)"
   ]
  },
  {
   "cell_type": "markdown",
   "id": "7981462a",
   "metadata": {},
   "source": [
    "### Random Forest Classifier\n",
    "Adapt the following example code from Breiman, “Random Forests”, Machine Learning, 45(1), 5-32, 2001. For documentation click [here](https://scikit-learn.org/stable/modules/generated/sklearn.ensemble.RandomForestClassifier.html)"
   ]
  },
  {
   "cell_type": "code",
   "execution_count": null,
   "id": "7571f0db",
   "metadata": {},
   "outputs": [],
   "source": [
    "X, y = make_classification(n_samples=1000, n_features=4,\n",
    "n_informative=2, n_redundant=0,\n",
    "                           random_state=0, shuffle=False)\n",
    "clf = RandomForestClassifier(max_depth=2, random_state=0)\n",
    "clf.fit(X, y)\n",
    "RandomForestClassifier(...)\n",
    "print(clf.predict([[0, 0, 0, 0]]))"
   ]
  },
  {
   "cell_type": "markdown",
   "id": "2c7ed268",
   "metadata": {},
   "source": [
    "### Rule-based algorithm \n",
    "The rule-based model file will be incorporated here once it is finalized."
   ]
  },
  {
   "cell_type": "markdown",
   "id": "1aa819fd",
   "metadata": {},
   "source": [
    "### Training the classifiers"
   ]
  },
  {
   "cell_type": "code",
   "execution_count": null,
   "id": "827975e7",
   "metadata": {},
   "outputs": [],
   "source": [
    "# algorithm.fit(X_train, y_train)"
   ]
  },
  {
   "cell_type": "markdown",
   "id": "d312c57f",
   "metadata": {},
   "source": [
    "## 5. Model evaluation \n",
    "#### (more research is needed to define the relevant metrics)\n",
    "In this step we will use corresponding metrics to test the ability of multi-class classifier by comparing the performance of different models and eventually, analysing the best peforming model my tuning different parameters."
   ]
  },
  {
   "cell_type": "markdown",
   "id": "e4746e7e",
   "metadata": {},
   "source": [
    "### Use the trained classifier model to classify new objects"
   ]
  },
  {
   "cell_type": "code",
   "execution_count": null,
   "id": "8f93afb7",
   "metadata": {},
   "outputs": [],
   "source": [
    "#new object classification on the \"test set\" as defined by Hastie et al. above"
   ]
  },
  {
   "cell_type": "markdown",
   "id": "1d956fdd",
   "metadata": {},
   "source": [
    "### Accuracy\n",
    "This metric will be directly computed from the confusion matrix"
   ]
  },
  {
   "cell_type": "code",
   "execution_count": null,
   "id": "e86daa9d",
   "metadata": {},
   "outputs": [],
   "source": [
    "#algorithm.score(X_test, y_test)"
   ]
  },
  {
   "cell_type": "markdown",
   "id": "5d86c085",
   "metadata": {},
   "source": [
    "### Multi-class confusion matrix\n",
    "Confusion Matrix is used to know the performance of a Machine learning classification. It is represented in a matrix form. [Confusion Matrix](https://www.analyticsvidhya.com/blog/2021/06/confusion-matrix-for-multi-class-classification/#:~:text=Confusion%20Matrix%20is%20used%20to,between%20Actual%20and%20predicted%20values.&text=Confusion%20Matrix%20has%204%20terms,and%20False%20Negative(FN).) gives a comparison between Actual and predicted values"
   ]
  },
  {
   "cell_type": "code",
   "execution_count": null,
   "id": "6b9a34ea",
   "metadata": {},
   "outputs": [],
   "source": [
    "#some code"
   ]
  },
  {
   "cell_type": "markdown",
   "id": "e631c58f",
   "metadata": {},
   "source": [
    "### Precision and recall\n",
    "Precision quantifies the number of positive class predictions that actually belong to the positive class. Recall quantifies the number of positive class predictions made out of all positive examples in the dataset. [For more read the following blog](https://towardsdatascience.com/multi-class-metrics-made-simple-part-i-precision-and-recall-9250280bddc2)."
   ]
  },
  {
   "cell_type": "code",
   "execution_count": null,
   "id": "d919b5cd",
   "metadata": {},
   "outputs": [],
   "source": [
    "#some code"
   ]
  },
  {
   "cell_type": "markdown",
   "id": "e0e5d41f",
   "metadata": {},
   "source": [
    "### K-fold cross-validation\n",
    "In this step, we will leverage k-fold cross validation  to estimate the skill of the model on new data."
   ]
  },
  {
   "cell_type": "code",
   "execution_count": null,
   "id": "e8aec558",
   "metadata": {},
   "outputs": [],
   "source": [
    "#some code"
   ]
  },
  {
   "cell_type": "markdown",
   "id": "b54e6671",
   "metadata": {},
   "source": [
    "## 6. Model deployment"
   ]
  },
  {
   "cell_type": "markdown",
   "id": "3e011927",
   "metadata": {},
   "source": [
    "### Deploying the output predictions for the digital product"
   ]
  },
  {
   "cell_type": "code",
   "execution_count": null,
   "id": "5d4c7019",
   "metadata": {},
   "outputs": [],
   "source": [
    "#some code (look this up)"
   ]
  },
  {
   "cell_type": "markdown",
   "id": "833c13d2",
   "metadata": {},
   "source": [
    "Further steps: save the model as a file, and create an .xls file with the testset (as defined by Hastie et al., 2009) and corresponding predictions in an additional column Details to be aligned with WD team (e.g., Flask interface)."
   ]
  }
 ],
 "metadata": {
  "kernelspec": {
   "display_name": "Python 3",
   "language": "python",
   "name": "python3"
  },
  "language_info": {
   "codemirror_mode": {
    "name": "ipython",
    "version": 3
   },
   "file_extension": ".py",
   "mimetype": "text/x-python",
   "name": "python",
   "nbconvert_exporter": "python",
   "pygments_lexer": "ipython3",
   "version": "3.8.8"
  }
 },
 "nbformat": 4,
 "nbformat_minor": 5
}
