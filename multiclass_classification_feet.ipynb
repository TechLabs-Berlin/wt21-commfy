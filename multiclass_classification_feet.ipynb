{
 "cells": [
  {
   "cell_type": "code",
   "execution_count": 1,
   "id": "c481889e",
   "metadata": {},
   "outputs": [],
   "source": [
    "# RUN THIS COMMAND ONLY IF YOU USE GOOGLE COLAB.\n",
    "#from google.colab import drive\n",
    "#drive.mount('/content/drive')"
   ]
  },
  {
   "cell_type": "code",
   "execution_count": 2,
   "id": "64b2d6dc",
   "metadata": {},
   "outputs": [],
   "source": [
    "# RUN THIS COMMAND ONLY IF YOU USE GOOGLE COLAB.\n",
    "#%cd drive/MyDrive/commfy"
   ]
  },
  {
   "cell_type": "markdown",
   "id": "d688dd17",
   "metadata": {},
   "source": [
    "# Multiclass Classifier to Predict Feet Items \n",
    "The objective of this notebook is to build a machine learning model that predicts feet items (shoe & sock combination) by leveraging k-nearest neighbors and random forest classifiers."
   ]
  },
  {
   "cell_type": "markdown",
   "id": "80261010",
   "metadata": {},
   "source": [
    "## 1. Importing required modules and loading data file\n",
    "In the first section of this notebook, we have to import all neccessary libraries, required modules and essential packages. After running them in this cell, we will be able to use them in subsequent cells throughout the notebook."
   ]
  },
  {
   "cell_type": "code",
   "execution_count": 3,
   "id": "2e92572e",
   "metadata": {},
   "outputs": [],
   "source": [
    "%matplotlib inline\n",
    "import pandas as pd\n",
    "import numpy as np\n",
    "import matplotlib.pyplot as plt # for displaying plots\n",
    "import seaborn as sns; sns.set(style='ticks') # plotting package for histograms\n",
    "from sklearn.model_selection import train_test_split,cross_val_score\n",
    "from sklearn.datasets import load_digits\n",
    "from sklearn.ensemble import RandomForestClassifier\n",
    "from sklearn.datasets import make_classification\n",
    "from sklearn.neighbors import KNeighborsClassifier\n",
    "from sklearn.tree import DecisionTreeClassifier, plot_tree\n",
    "from sklearn.dummy import DummyClassifier\n",
    "from sklearn import metrics\n",
    "from matplotlib import cm #for creating color maps"
   ]
  },
  {
   "cell_type": "code",
   "execution_count": 4,
   "id": "2d506ca6",
   "metadata": {},
   "outputs": [],
   "source": [
    "#skipping some rows and reading only relevant parts into dataframe\n",
    "feets = pd.read_csv('input_data.csv', skiprows=2) \n",
    "#starting index from 1 in a dataframe\n",
    "feets.index = feets.index + 1"
   ]
  },
  {
   "cell_type": "markdown",
   "id": "43737d87",
   "metadata": {},
   "source": [
    "<hr style=\"border:2px solid gray\"> </hr>"
   ]
  },
  {
   "cell_type": "markdown",
   "id": "590a586c",
   "metadata": {},
   "source": [
    "## 2. Exploratory data analysis (EDA) and data cleaning\n",
    "In this section, it is essential to conduct the initial investigations on data to discover the patterns, identify outliers and spot noises with the help of summary statistics and graphical representations. The goal of EDA is to summarize the important characteristics of data in order to gain better understanding of the dataset and prepare data for machine learning."
   ]
  },
  {
   "cell_type": "markdown",
   "id": "10185d57",
   "metadata": {},
   "source": [
    "### The first step in EDA is to pre-process the dataset\n",
    "After importing the dataset and having a quick glance at a data, we transformed raw data to well-formed dataset."
   ]
  },
  {
   "cell_type": "code",
   "execution_count": 5,
   "id": "6b79f211",
   "metadata": {},
   "outputs": [
    {
     "data": {
      "text/html": [
       "<div>\n",
       "<style scoped>\n",
       "    .dataframe tbody tr th:only-of-type {\n",
       "        vertical-align: middle;\n",
       "    }\n",
       "\n",
       "    .dataframe tbody tr th {\n",
       "        vertical-align: top;\n",
       "    }\n",
       "\n",
       "    .dataframe thead th {\n",
       "        text-align: right;\n",
       "    }\n",
       "</style>\n",
       "<table border=\"1\" class=\"dataframe\">\n",
       "  <thead>\n",
       "    <tr style=\"text-align: right;\">\n",
       "      <th></th>\n",
       "      <th>Unnamed: 0</th>\n",
       "      <th>a</th>\n",
       "      <th>b</th>\n",
       "      <th>c</th>\n",
       "      <th>d</th>\n",
       "      <th>e</th>\n",
       "      <th>f</th>\n",
       "    </tr>\n",
       "  </thead>\n",
       "  <tbody>\n",
       "    <tr>\n",
       "      <th>1</th>\n",
       "      <td>0</td>\n",
       "      <td>23.633087</td>\n",
       "      <td>1.0</td>\n",
       "      <td>cloudy</td>\n",
       "      <td>1.0</td>\n",
       "      <td>1.0</td>\n",
       "      <td>-2</td>\n",
       "    </tr>\n",
       "    <tr>\n",
       "      <th>2</th>\n",
       "      <td>1</td>\n",
       "      <td>38.742237</td>\n",
       "      <td>1.0</td>\n",
       "      <td>sunny</td>\n",
       "      <td>0.0</td>\n",
       "      <td>1.0</td>\n",
       "      <td>0</td>\n",
       "    </tr>\n",
       "    <tr>\n",
       "      <th>3</th>\n",
       "      <td>2</td>\n",
       "      <td>NaN</td>\n",
       "      <td>1.0</td>\n",
       "      <td>sunny</td>\n",
       "      <td>1.0</td>\n",
       "      <td>2.0</td>\n",
       "      <td>2</td>\n",
       "    </tr>\n",
       "    <tr>\n",
       "      <th>4</th>\n",
       "      <td>3</td>\n",
       "      <td>22.249957</td>\n",
       "      <td>1.0</td>\n",
       "      <td>sunny</td>\n",
       "      <td>0.0</td>\n",
       "      <td>1.0</td>\n",
       "      <td>-5</td>\n",
       "    </tr>\n",
       "    <tr>\n",
       "      <th>5</th>\n",
       "      <td>4</td>\n",
       "      <td>27.007875</td>\n",
       "      <td>1.0</td>\n",
       "      <td>cloudy</td>\n",
       "      <td>0.0</td>\n",
       "      <td>0.0</td>\n",
       "      <td>-2</td>\n",
       "    </tr>\n",
       "    <tr>\n",
       "      <th>6</th>\n",
       "      <td>5</td>\n",
       "      <td>37.733175</td>\n",
       "      <td>1.0</td>\n",
       "      <td>sunny</td>\n",
       "      <td>1.0</td>\n",
       "      <td>1.0</td>\n",
       "      <td>0</td>\n",
       "    </tr>\n",
       "    <tr>\n",
       "      <th>7</th>\n",
       "      <td>6</td>\n",
       "      <td>23.452793</td>\n",
       "      <td>1.0</td>\n",
       "      <td>sunny</td>\n",
       "      <td>2.0</td>\n",
       "      <td>NaN</td>\n",
       "      <td>3</td>\n",
       "    </tr>\n",
       "    <tr>\n",
       "      <th>8</th>\n",
       "      <td>7</td>\n",
       "      <td>29.576284</td>\n",
       "      <td>1.0</td>\n",
       "      <td>cloudy</td>\n",
       "      <td>0.0</td>\n",
       "      <td>0.0</td>\n",
       "      <td>2</td>\n",
       "    </tr>\n",
       "    <tr>\n",
       "      <th>9</th>\n",
       "      <td>8</td>\n",
       "      <td>20.621831</td>\n",
       "      <td>1.0</td>\n",
       "      <td>cloudy</td>\n",
       "      <td>0.0</td>\n",
       "      <td>0.0</td>\n",
       "      <td>0</td>\n",
       "    </tr>\n",
       "    <tr>\n",
       "      <th>10</th>\n",
       "      <td>9</td>\n",
       "      <td>26.420650</td>\n",
       "      <td>1.0</td>\n",
       "      <td>cloudy</td>\n",
       "      <td>1.0</td>\n",
       "      <td>2.0</td>\n",
       "      <td>44</td>\n",
       "    </tr>\n",
       "  </tbody>\n",
       "</table>\n",
       "</div>"
      ],
      "text/plain": [
       "    Unnamed: 0          a    b       c    d    e   f\n",
       "1            0  23.633087  1.0  cloudy  1.0  1.0  -2\n",
       "2            1  38.742237  1.0   sunny  0.0  1.0   0\n",
       "3            2        NaN  1.0   sunny  1.0  2.0   2\n",
       "4            3  22.249957  1.0   sunny  0.0  1.0  -5\n",
       "5            4  27.007875  1.0  cloudy  0.0  0.0  -2\n",
       "6            5  37.733175  1.0   sunny  1.0  1.0   0\n",
       "7            6  23.452793  1.0   sunny  2.0  NaN   3\n",
       "8            7  29.576284  1.0  cloudy  0.0  0.0   2\n",
       "9            8  20.621831  1.0  cloudy  0.0  0.0   0\n",
       "10           9  26.420650  1.0  cloudy  1.0  2.0  44"
      ]
     },
     "execution_count": 5,
     "metadata": {},
     "output_type": "execute_result"
    }
   ],
   "source": [
    "#viewing the dataset & checking if data has been read into a dataframe object\n",
    "feets.head(10)"
   ]
  },
  {
   "cell_type": "code",
   "execution_count": 6,
   "id": "46b49d91",
   "metadata": {},
   "outputs": [],
   "source": [
    "#renaming the columns with self-explanatory titles\n",
    "feets.rename({\"a\": \"temperature\", \"b\": \"feet_class\", \"c\": \"weather\",\"d\": \"sex\", \"e\":\"heaviness_trip\", \"f\":\"heat_perception\"},axis = 1, inplace = True)"
   ]
  },
  {
   "cell_type": "code",
   "execution_count": 7,
   "id": "7123fd1c",
   "metadata": {},
   "outputs": [],
   "source": [
    "#slicing out the unneccesary column\n",
    "feets = feets.iloc[: , 1:]"
   ]
  },
  {
   "cell_type": "code",
   "execution_count": 8,
   "id": "bfb52185",
   "metadata": {},
   "outputs": [
    {
     "data": {
      "text/plain": [
       "temperature        4\n",
       "feet_class         2\n",
       "weather            2\n",
       "sex                1\n",
       "heaviness_trip     4\n",
       "heat_perception    0\n",
       "dtype: int64"
      ]
     },
     "execution_count": 8,
     "metadata": {},
     "output_type": "execute_result"
    }
   ],
   "source": [
    "#checking how many values are missing for each column\n",
    "feets.isnull().sum(axis=0)"
   ]
  },
  {
   "cell_type": "markdown",
   "id": "f8ff5219",
   "metadata": {},
   "source": [
    "The are few missing values, therefore, it is statistics insignificant to drop all of them."
   ]
  },
  {
   "cell_type": "code",
   "execution_count": 9,
   "id": "621fdc12",
   "metadata": {},
   "outputs": [],
   "source": [
    "#dropping rows with NaN values\n",
    "feets.dropna(inplace = True)"
   ]
  },
  {
   "cell_type": "code",
   "execution_count": 10,
   "id": "ae2022b1",
   "metadata": {},
   "outputs": [
    {
     "name": "stdout",
     "output_type": "stream",
     "text": [
      "<class 'pandas.core.frame.DataFrame'>\n",
      "Int64Index: 24988 entries, 1 to 25000\n",
      "Data columns (total 6 columns):\n",
      " #   Column           Non-Null Count  Dtype  \n",
      "---  ------           --------------  -----  \n",
      " 0   temperature      24988 non-null  float64\n",
      " 1   feet_class       24988 non-null  float64\n",
      " 2   weather          24988 non-null  object \n",
      " 3   sex              24988 non-null  float64\n",
      " 4   heaviness_trip   24988 non-null  float64\n",
      " 5   heat_perception  24988 non-null  int64  \n",
      "dtypes: float64(4), int64(1), object(1)\n",
      "memory usage: 1.3+ MB\n"
     ]
    }
   ],
   "source": [
    "#finding out the columns & their corresponding data types\n",
    "feets.info()"
   ]
  },
  {
   "cell_type": "code",
   "execution_count": 11,
   "id": "4719c3a4",
   "metadata": {},
   "outputs": [
    {
     "data": {
      "text/plain": [
       "temperature        float64\n",
       "feet_class           int64\n",
       "weather             object\n",
       "sex                  int64\n",
       "heaviness_trip       int64\n",
       "heat_perception      int64\n",
       "dtype: object"
      ]
     },
     "metadata": {},
     "output_type": "display_data"
    }
   ],
   "source": [
    "#converting feet_class, sex and heaviness_trip from float to int\n",
    "feets = feets.astype({\"feet_class\":'int', \"sex\":'int', \"heaviness_trip\": 'int'}) \n",
    "display(feets.dtypes)"
   ]
  },
  {
   "cell_type": "code",
   "execution_count": 12,
   "id": "856adbdc",
   "metadata": {},
   "outputs": [
    {
     "data": {
      "text/plain": [
       "array([-2,  0, -5,  2, 44,  4, -4,  5, -3, -1,  3,  1])"
      ]
     },
     "execution_count": 12,
     "metadata": {},
     "output_type": "execute_result"
    }
   ],
   "source": [
    "#getting unique values of heat_perception series object\n",
    "feets['heat_perception'].unique()"
   ]
  },
  {
   "cell_type": "code",
   "execution_count": 13,
   "id": "64919961",
   "metadata": {},
   "outputs": [
    {
     "data": {
      "text/plain": [
       "array(['cloudy', 'sunny', 'sunnny', 'cloudi', 'Sunny', 'snowy', 'rainy',\n",
       "       'rayny', 'raiiny'], dtype=object)"
      ]
     },
     "execution_count": 13,
     "metadata": {},
     "output_type": "execute_result"
    }
   ],
   "source": [
    "feets['weather'].unique()"
   ]
  },
  {
   "cell_type": "code",
   "execution_count": 14,
   "id": "dba1d429",
   "metadata": {},
   "outputs": [],
   "source": [
    "feets['weather'].replace(['cloudy','sunny','snowy','rainy'],inplace=True)"
   ]
  },
  {
   "cell_type": "code",
   "execution_count": 15,
   "id": "0d4ac371",
   "metadata": {},
   "outputs": [],
   "source": [
    "#replacing the incorrect value the correct one\n",
    "feets['heat_perception'].replace([44],[4], inplace=True)"
   ]
  },
  {
   "cell_type": "code",
   "execution_count": 16,
   "id": "6085ff9a",
   "metadata": {},
   "outputs": [
    {
     "data": {
      "text/plain": [
       "array([-2,  0, -5,  2,  4, -4,  5, -3, -1,  3,  1])"
      ]
     },
     "execution_count": 16,
     "metadata": {},
     "output_type": "execute_result"
    }
   ],
   "source": [
    "#checking if the replacement have been placed\n",
    "feets['heat_perception'].unique()"
   ]
  },
  {
   "cell_type": "code",
   "execution_count": 17,
   "id": "369c84a8",
   "metadata": {},
   "outputs": [
    {
     "data": {
      "text/plain": [
       "array(['cloudy', 'sunnny', 'cloudi', 'Sunny', 'rayny', 'raiiny'],\n",
       "      dtype=object)"
      ]
     },
     "execution_count": 17,
     "metadata": {},
     "output_type": "execute_result"
    }
   ],
   "source": [
    "feets['weather'].unique()"
   ]
  },
  {
   "cell_type": "code",
   "execution_count": 18,
   "id": "cdcd652d",
   "metadata": {},
   "outputs": [],
   "source": [
    "#harmonising values in weather state column with df.replace()\n",
    "feets.replace(['cloudi', 'sunnny','Sunny', 'rayny','raiiny'], ['cloudy', 'sunny', 'sunny', 'rainy','rainy'],inplace=True)"
   ]
  },
  {
   "cell_type": "code",
   "execution_count": 19,
   "id": "467655f2",
   "metadata": {},
   "outputs": [
    {
     "data": {
      "text/plain": [
       "array(['cloudy', 'sunny', 'rainy'], dtype=object)"
      ]
     },
     "execution_count": 19,
     "metadata": {},
     "output_type": "execute_result"
    }
   ],
   "source": [
    "#checking if the changes have been placed\n",
    "feets['weather'].unique()"
   ]
  },
  {
   "cell_type": "code",
   "execution_count": 20,
   "id": "45412bf0",
   "metadata": {},
   "outputs": [
    {
     "data": {
      "text/html": [
       "<div>\n",
       "<style scoped>\n",
       "    .dataframe tbody tr th:only-of-type {\n",
       "        vertical-align: middle;\n",
       "    }\n",
       "\n",
       "    .dataframe tbody tr th {\n",
       "        vertical-align: top;\n",
       "    }\n",
       "\n",
       "    .dataframe thead th {\n",
       "        text-align: right;\n",
       "    }\n",
       "</style>\n",
       "<table border=\"1\" class=\"dataframe\">\n",
       "  <thead>\n",
       "    <tr style=\"text-align: right;\">\n",
       "      <th></th>\n",
       "      <th>temperature</th>\n",
       "      <th>feet_class</th>\n",
       "      <th>weather</th>\n",
       "      <th>sex</th>\n",
       "      <th>heaviness_trip</th>\n",
       "      <th>heat_perception</th>\n",
       "    </tr>\n",
       "  </thead>\n",
       "  <tbody>\n",
       "    <tr>\n",
       "      <th>1</th>\n",
       "      <td>23.633087</td>\n",
       "      <td>1</td>\n",
       "      <td>cloudy</td>\n",
       "      <td>1</td>\n",
       "      <td>1</td>\n",
       "      <td>-2</td>\n",
       "    </tr>\n",
       "    <tr>\n",
       "      <th>2</th>\n",
       "      <td>38.742237</td>\n",
       "      <td>1</td>\n",
       "      <td>cloudy</td>\n",
       "      <td>0</td>\n",
       "      <td>1</td>\n",
       "      <td>0</td>\n",
       "    </tr>\n",
       "    <tr>\n",
       "      <th>4</th>\n",
       "      <td>22.249957</td>\n",
       "      <td>1</td>\n",
       "      <td>cloudy</td>\n",
       "      <td>0</td>\n",
       "      <td>1</td>\n",
       "      <td>-5</td>\n",
       "    </tr>\n",
       "    <tr>\n",
       "      <th>5</th>\n",
       "      <td>27.007875</td>\n",
       "      <td>1</td>\n",
       "      <td>cloudy</td>\n",
       "      <td>0</td>\n",
       "      <td>0</td>\n",
       "      <td>-2</td>\n",
       "    </tr>\n",
       "    <tr>\n",
       "      <th>6</th>\n",
       "      <td>37.733175</td>\n",
       "      <td>1</td>\n",
       "      <td>cloudy</td>\n",
       "      <td>1</td>\n",
       "      <td>1</td>\n",
       "      <td>0</td>\n",
       "    </tr>\n",
       "    <tr>\n",
       "      <th>8</th>\n",
       "      <td>29.576284</td>\n",
       "      <td>1</td>\n",
       "      <td>cloudy</td>\n",
       "      <td>0</td>\n",
       "      <td>0</td>\n",
       "      <td>2</td>\n",
       "    </tr>\n",
       "  </tbody>\n",
       "</table>\n",
       "</div>"
      ],
      "text/plain": [
       "   temperature  feet_class weather  sex  heaviness_trip  heat_perception\n",
       "1    23.633087           1  cloudy    1               1               -2\n",
       "2    38.742237           1  cloudy    0               1                0\n",
       "4    22.249957           1  cloudy    0               1               -5\n",
       "5    27.007875           1  cloudy    0               0               -2\n",
       "6    37.733175           1  cloudy    1               1                0\n",
       "8    29.576284           1  cloudy    0               0                2"
      ]
     },
     "execution_count": 20,
     "metadata": {},
     "output_type": "execute_result"
    }
   ],
   "source": [
    "feets.head(6)"
   ]
  },
  {
   "cell_type": "code",
   "execution_count": 30,
   "id": "7e365210",
   "metadata": {},
   "outputs": [
    {
     "data": {
      "text/html": [
       "<div>\n",
       "<style scoped>\n",
       "    .dataframe tbody tr th:only-of-type {\n",
       "        vertical-align: middle;\n",
       "    }\n",
       "\n",
       "    .dataframe tbody tr th {\n",
       "        vertical-align: top;\n",
       "    }\n",
       "\n",
       "    .dataframe thead th {\n",
       "        text-align: right;\n",
       "    }\n",
       "</style>\n",
       "<table border=\"1\" class=\"dataframe\">\n",
       "  <thead>\n",
       "    <tr style=\"text-align: right;\">\n",
       "      <th></th>\n",
       "      <th>temperature</th>\n",
       "      <th>feet_class</th>\n",
       "      <th>heat_perception</th>\n",
       "    </tr>\n",
       "  </thead>\n",
       "  <tbody>\n",
       "    <tr>\n",
       "      <th>count</th>\n",
       "      <td>24988.00</td>\n",
       "      <td>24988.00</td>\n",
       "      <td>24988.00</td>\n",
       "    </tr>\n",
       "    <tr>\n",
       "      <th>mean</th>\n",
       "      <td>9.21</td>\n",
       "      <td>3.00</td>\n",
       "      <td>0.02</td>\n",
       "    </tr>\n",
       "    <tr>\n",
       "      <th>std</th>\n",
       "      <td>15.72</td>\n",
       "      <td>1.41</td>\n",
       "      <td>3.17</td>\n",
       "    </tr>\n",
       "    <tr>\n",
       "      <th>min</th>\n",
       "      <td>-17.19</td>\n",
       "      <td>1.00</td>\n",
       "      <td>-5.00</td>\n",
       "    </tr>\n",
       "    <tr>\n",
       "      <th>25%</th>\n",
       "      <td>-5.51</td>\n",
       "      <td>2.00</td>\n",
       "      <td>-3.00</td>\n",
       "    </tr>\n",
       "    <tr>\n",
       "      <th>50%</th>\n",
       "      <td>5.54</td>\n",
       "      <td>3.00</td>\n",
       "      <td>0.00</td>\n",
       "    </tr>\n",
       "    <tr>\n",
       "      <th>75%</th>\n",
       "      <td>24.47</td>\n",
       "      <td>4.00</td>\n",
       "      <td>3.00</td>\n",
       "    </tr>\n",
       "    <tr>\n",
       "      <th>max</th>\n",
       "      <td>55.27</td>\n",
       "      <td>5.00</td>\n",
       "      <td>5.00</td>\n",
       "    </tr>\n",
       "  </tbody>\n",
       "</table>\n",
       "</div>"
      ],
      "text/plain": [
       "       temperature  feet_class  heat_perception\n",
       "count     24988.00    24988.00         24988.00\n",
       "mean          9.21        3.00             0.02\n",
       "std          15.72        1.41             3.17\n",
       "min         -17.19        1.00            -5.00\n",
       "25%          -5.51        2.00            -3.00\n",
       "50%           5.54        3.00             0.00\n",
       "75%          24.47        4.00             3.00\n",
       "max          55.27        5.00             5.00"
      ]
     },
     "execution_count": 30,
     "metadata": {},
     "output_type": "execute_result"
    }
   ],
   "source": [
    "round(feets.describe(), 2) #for the statistical summary of numerical data"
   ]
  },
  {
   "cell_type": "markdown",
   "id": "e181aa33",
   "metadata": {},
   "source": [
    "### The second step is to conduct descriptive statistics of a datatset.\n",
    "We call the describe() function to gain insights into the shape of each attribute by creating summary statistics by viewing central tendency, mean, median, standard deviation, percentile and max values."
   ]
  },
  {
   "cell_type": "markdown",
   "id": "9fc162bd",
   "metadata": {},
   "source": [
    "### The third step is to create bar charts.\n",
    "The bar charts on categorical variables show the class distribution of the independent variables (x axis distinct items, y axis frequency)."
   ]
  },
  {
   "cell_type": "code",
   "execution_count": 22,
   "id": "f900b5e7",
   "metadata": {},
   "outputs": [],
   "source": [
    "#replacing the numeric labels of sex categories with descriptive ones\n",
    "feets[\"sex\"].replace([0, 1, 2],['male','female','diverse'], inplace = True)"
   ]
  },
  {
   "cell_type": "code",
   "execution_count": 38,
   "id": "d39f95f9",
   "metadata": {},
   "outputs": [
    {
     "data": {
      "text/html": [
       "<div>\n",
       "<style scoped>\n",
       "    .dataframe tbody tr th:only-of-type {\n",
       "        vertical-align: middle;\n",
       "    }\n",
       "\n",
       "    .dataframe tbody tr th {\n",
       "        vertical-align: top;\n",
       "    }\n",
       "\n",
       "    .dataframe thead th {\n",
       "        text-align: right;\n",
       "    }\n",
       "</style>\n",
       "<table border=\"1\" class=\"dataframe\">\n",
       "  <thead>\n",
       "    <tr style=\"text-align: right;\">\n",
       "      <th></th>\n",
       "      <th>temperature</th>\n",
       "      <th>feet_class</th>\n",
       "      <th>weather</th>\n",
       "      <th>sex</th>\n",
       "      <th>heaviness_trip</th>\n",
       "      <th>heat_perception</th>\n",
       "    </tr>\n",
       "  </thead>\n",
       "  <tbody>\n",
       "    <tr>\n",
       "      <th>1</th>\n",
       "      <td>23.633087</td>\n",
       "      <td>1</td>\n",
       "      <td>cloudy</td>\n",
       "      <td>female</td>\n",
       "      <td>normal</td>\n",
       "      <td>-2</td>\n",
       "    </tr>\n",
       "    <tr>\n",
       "      <th>2</th>\n",
       "      <td>38.742237</td>\n",
       "      <td>1</td>\n",
       "      <td>cloudy</td>\n",
       "      <td>male</td>\n",
       "      <td>normal</td>\n",
       "      <td>0</td>\n",
       "    </tr>\n",
       "    <tr>\n",
       "      <th>4</th>\n",
       "      <td>22.249957</td>\n",
       "      <td>1</td>\n",
       "      <td>cloudy</td>\n",
       "      <td>male</td>\n",
       "      <td>normal</td>\n",
       "      <td>-5</td>\n",
       "    </tr>\n",
       "    <tr>\n",
       "      <th>5</th>\n",
       "      <td>27.007875</td>\n",
       "      <td>1</td>\n",
       "      <td>cloudy</td>\n",
       "      <td>male</td>\n",
       "      <td>easy</td>\n",
       "      <td>-2</td>\n",
       "    </tr>\n",
       "    <tr>\n",
       "      <th>6</th>\n",
       "      <td>37.733175</td>\n",
       "      <td>1</td>\n",
       "      <td>cloudy</td>\n",
       "      <td>female</td>\n",
       "      <td>normal</td>\n",
       "      <td>0</td>\n",
       "    </tr>\n",
       "  </tbody>\n",
       "</table>\n",
       "</div>"
      ],
      "text/plain": [
       "   temperature  feet_class weather     sex heaviness_trip  heat_perception\n",
       "1    23.633087           1  cloudy  female         normal               -2\n",
       "2    38.742237           1  cloudy    male         normal                0\n",
       "4    22.249957           1  cloudy    male         normal               -5\n",
       "5    27.007875           1  cloudy    male           easy               -2\n",
       "6    37.733175           1  cloudy  female         normal                0"
      ]
     },
     "execution_count": 38,
     "metadata": {},
     "output_type": "execute_result"
    }
   ],
   "source": [
    "#checking if changes have been placed\n",
    "feets.head()"
   ]
  },
  {
   "cell_type": "code",
   "execution_count": 39,
   "id": "f14a4e70",
   "metadata": {},
   "outputs": [
    {
     "data": {
      "image/png": "[encoded data removed]",
      "text/plain": [
       "<Figure size 504x432 with 1 Axes>"
      ]
     },
     "metadata": {},
     "output_type": "display_data"
    }
   ],
   "source": [
    "#creating a bar chart on the frequency of categories in the 'sex' variable\n",
    "sns.set(font_scale=1.4)\n",
    "feets['sex'].value_counts().plot(kind='bar', figsize=(7, 6), rot=0)\n",
    "plt.xlabel(\"Sex\", labelpad=14)\n",
    "plt.ylabel(\"Number of Occurrences\", labelpad=14)\n",
    "plt.title(\"Frequency of Categories in Sex\", y=1.02);"
   ]
  },
  {
   "cell_type": "markdown",
   "id": "64950218",
   "metadata": {},
   "source": [
    "There are equal frequencies for female and male categories. The occurences of diverse category in this dataset corresponds to the relatively less number of diverse people (intersex?) in general."
   ]
  },
  {
   "cell_type": "code",
   "execution_count": 40,
   "id": "773a710e",
   "metadata": {},
   "outputs": [
    {
     "data": {
      "image/png": "[encoded data removed]",
      "text/plain": [
       "<Figure size 504x432 with 1 Axes>"
      ]
     },
     "metadata": {},
     "output_type": "display_data"
    }
   ],
   "source": [
    "#creating a bar chart on the frequency of categories in the 'weather' variable\n",
    "sns.set(font_scale=1.4)\n",
    "feets['weather'].value_counts().plot(kind='bar', figsize=(7, 6), rot=0)\n",
    "plt.xlabel(\"Weather State\", labelpad=14)\n",
    "plt.ylabel(\"Number of Occurrences\", labelpad=14)\n",
    "plt.title(\"Frequency of Categories in the Weather State\", y=1.02);"
   ]
  },
  {
   "cell_type": "markdown",
   "id": "09924970",
   "metadata": {},
   "source": [
    "The frequency of cloudy category in the variable weather is minimal which is also displayed in the bart chart. The dataset contains high frequency of sunny weather state and approximately twice as less of rainy observations."
   ]
  },
  {
   "cell_type": "code",
   "execution_count": 41,
   "id": "06b54c6d",
   "metadata": {},
   "outputs": [],
   "source": [
    "feets[\"heaviness_trip\"].replace([0, 1, 2],['easy','normal','hard'], inplace = True)"
   ]
  },
  {
   "cell_type": "code",
   "execution_count": 42,
   "id": "fbd656de",
   "metadata": {},
   "outputs": [
    {
     "data": {
      "image/png": "[encoded data removed]",
      "text/plain": [
       "<Figure size 504x432 with 1 Axes>"
      ]
     },
     "metadata": {},
     "output_type": "display_data"
    }
   ],
   "source": [
    "##creating a bar chart on the frequency of categories in the 'heaviness_trip' variable\n",
    "sns.set(font_scale=1.4)\n",
    "feets[\"heaviness_trip\"].value_counts().plot(kind='bar', figsize=(7, 6), rot=0)\n",
    "plt.xlabel(\"Heaviness of Trip\", labelpad=14)\n",
    "plt.ylabel(\"Number of Occurrences\", labelpad=14)\n",
    "plt.title(\"Frequency of Categories in the Heaviness of Trip\", y=1.02);"
   ]
  },
  {
   "cell_type": "markdown",
   "id": "ed5d068b",
   "metadata": {},
   "source": [
    "There are almost equal occurrences of all three categories in the weather state."
   ]
  },
  {
   "cell_type": "markdown",
   "id": "9b7aaf43",
   "metadata": {},
   "source": [
    "### This forth step is to plot histograms/kernel density plots for each variables. \n",
    "This visualization technique will enable us to see how frequently data in each class occur in the dataset. Namely, it will graphically show the frequency of different data points in the dataset, location of the center of data, the spread of dataset, skewness of dataset and presence of outliers."
   ]
  },
  {
   "cell_type": "code",
   "execution_count": 57,
   "id": "fe8c3837",
   "metadata": {},
   "outputs": [
    {
     "data": {
      "text/plain": [
       "Text(0.5, 1.0, 'Histogram of Temperature')"
      ]
     },
     "execution_count": 57,
     "metadata": {},
     "output_type": "execute_result"
    },
    {
     "data": {
      "image/png": "[encoded data removed]",
      "text/plain": [
       "<Figure size 432x288 with 1 Axes>"
      ]
     },
     "metadata": {},
     "output_type": "display_data"
    }
   ],
   "source": [
    "sns.histplot(feets[\"temperature\"], kde = True, stat=\"density\", linewidth=0).set_title(\"Histogram of Temperature\")"
   ]
  },
  {
   "cell_type": "markdown",
   "id": "bd5c3ba5",
   "metadata": {},
   "source": [
    "Provide interpretation of the histogram"
   ]
  },
  {
   "cell_type": "code",
   "execution_count": 45,
   "id": "704a01e1",
   "metadata": {},
   "outputs": [
    {
     "data": {
      "image/png": "[encoded data removed]",
      "text/plain": [
       "<Figure size 432x288 with 1 Axes>"
      ]
     },
     "metadata": {},
     "output_type": "display_data"
    }
   ],
   "source": [
    "ax = sns.boxplot(x=\"feet_class\", y=\"temperature\", data=feets).set_title(\"Boxplot of Temperature by Class\")"
   ]
  },
  {
   "cell_type": "markdown",
   "id": "35805807",
   "metadata": {},
   "source": [
    "Provide interpretation"
   ]
  },
  {
   "cell_type": "markdown",
   "id": "cd716c34",
   "metadata": {},
   "source": [
    "### The last step of this section checks the correlation between features in a dataset by calling df.corr()"
   ]
  },
  {
   "cell_type": "markdown",
   "id": "415ee0c7",
   "metadata": {},
   "source": [
    " \n",
    " It calculates the correlation between features pairwise excluding null values. Thus, we will gain understanding on one or multiple attributes that might be dependent on another attribute or a cause for another attribute.Feature correlations matter in predicting one attribute from another.\n",
    "\n",
    "The cell computes a correlation matrix (Max's note: be mindful of the type of correlation and the scale level of the variable, pearson vs. spearman correlation)"
   ]
  },
  {
   "cell_type": "code",
   "execution_count": 47,
   "id": "e6a02c99",
   "metadata": {},
   "outputs": [
    {
     "data": {
      "text/html": [
       "<div>\n",
       "<style scoped>\n",
       "    .dataframe tbody tr th:only-of-type {\n",
       "        vertical-align: middle;\n",
       "    }\n",
       "\n",
       "    .dataframe tbody tr th {\n",
       "        vertical-align: top;\n",
       "    }\n",
       "\n",
       "    .dataframe thead th {\n",
       "        text-align: right;\n",
       "    }\n",
       "</style>\n",
       "<table border=\"1\" class=\"dataframe\">\n",
       "  <thead>\n",
       "    <tr style=\"text-align: right;\">\n",
       "      <th></th>\n",
       "      <th>temperature</th>\n",
       "      <th>feet_class</th>\n",
       "      <th>heat_perception</th>\n",
       "    </tr>\n",
       "  </thead>\n",
       "  <tbody>\n",
       "    <tr>\n",
       "      <th>temperature</th>\n",
       "      <td>1.00</td>\n",
       "      <td>-0.44</td>\n",
       "      <td>0.08</td>\n",
       "    </tr>\n",
       "    <tr>\n",
       "      <th>feet_class</th>\n",
       "      <td>-0.44</td>\n",
       "      <td>1.00</td>\n",
       "      <td>0.00</td>\n",
       "    </tr>\n",
       "    <tr>\n",
       "      <th>heat_perception</th>\n",
       "      <td>0.08</td>\n",
       "      <td>0.00</td>\n",
       "      <td>1.00</td>\n",
       "    </tr>\n",
       "  </tbody>\n",
       "</table>\n",
       "</div>"
      ],
      "text/plain": [
       "                 temperature  feet_class  heat_perception\n",
       "temperature             1.00       -0.44             0.08\n",
       "feet_class             -0.44        1.00             0.00\n",
       "heat_perception         0.08        0.00             1.00"
      ]
     },
     "execution_count": 47,
     "metadata": {},
     "output_type": "execute_result"
    }
   ],
   "source": [
    "round(feets.corr(),2)"
   ]
  },
  {
   "cell_type": "markdown",
   "id": "d9c1a65a",
   "metadata": {},
   "source": [
    "<hr style=\"border:2px solid gray\"> </hr>"
   ]
  },
  {
   "cell_type": "markdown",
   "id": "82cb6ae8",
   "metadata": {},
   "source": [
    "## 4. Model training\n",
    "In this chapter, we will feed the ML algorithms with data to help identify and learn good values for all attributes involved."
   ]
  },
  {
   "cell_type": "markdown",
   "id": "870a5b7d",
   "metadata": {},
   "source": [
    "The following code splits machine learning data into three datatsets: train-set, validation- and test-sets. The third set is important to test the final performance of the model. It is used only  on the fine-tuned model. Once it is used, it loses its \"value\".<p>\n",
    "\n",
    "There is a big different in training data with the 'heat preception', therefore, we decided to train models with and without this feature."
   ]
  },
  {
   "cell_type": "code",
   "execution_count": 48,
   "id": "c4b21ae4",
   "metadata": {},
   "outputs": [],
   "source": [
    "class_name=feets['feet_class'].replace([1,2,3,4,5],[\"Low shoes + socks\", \"boots + socks\", \"boots + wool socks\", \"rainproof shoes + socks\", \"rainproof shoes + wool socks\"]).unique()"
   ]
  },
  {
   "cell_type": "code",
   "execution_count": 49,
   "id": "427fab94",
   "metadata": {},
   "outputs": [],
   "source": [
    "# for our model we use such output data as temperature, sex, heat perception and weather state\n",
    "X = feets[['temperature', 'sex','heat_perception', 'heaviness_trip','weather']]\n",
    "y = feets['feet_class']\n",
    "\n",
    "# default is 75% / 25% train-test split\n",
    "X_train_help, X_test, y_train_help, y_test = train_test_split(X, y,test_size=0.20, random_state=0)\n",
    "X_train, X_validation,y_train,y_validation =train_test_split(X, y,test_size=0.25, random_state=0)\n"
   ]
  },
  {
   "cell_type": "markdown",
   "id": "130543c0",
   "metadata": {},
   "source": [
    "### Dummy Classifiers\n",
    "DummyClassifier is a classifier that makes predictions using simple rules, which can be useful as a baseline for comparison against actual classifiers, especially with imbalanced classes."
   ]
  },
  {
   "cell_type": "code",
   "execution_count": 50,
   "id": "3fb3974f",
   "metadata": {},
   "outputs": [
    {
     "name": "stdout",
     "output_type": "stream",
     "text": [
      "0.20188075230092037\n"
     ]
    }
   ],
   "source": [
    "# Negative class (0) is most frequent\n",
    "dummy_majority = DummyClassifier(strategy = 'most_frequent').fit(X_train, y_train)\n",
    "# Therefore the dummy 'most_frequent' classifier always predicts class 0\n",
    "y_dummy_predictions = dummy_majority.predict(X_test)\n",
    "y_dummy_predictions\n",
    "print(dummy_majority.score(X_test, y_test))"
   ]
  },
  {
   "cell_type": "markdown",
   "id": "bdaf4902",
   "metadata": {},
   "source": [
    "### K-Nearest Neighbours Classification"
   ]
  },
  {
   "cell_type": "code",
   "execution_count": 51,
   "id": "755f6c51",
   "metadata": {},
   "outputs": [],
   "source": [
    "knn = KNeighborsClassifier(n_neighbors = 6)"
   ]
  },
  {
   "cell_type": "code",
   "execution_count": 52,
   "id": "ae88ab15",
   "metadata": {},
   "outputs": [],
   "source": [
    "dec_tree_clf = DecisionTreeClassifier(max_depth = 4)"
   ]
  },
  {
   "cell_type": "code",
   "execution_count": 53,
   "id": "a1a7cc65",
   "metadata": {},
   "outputs": [],
   "source": [
    "random_forest_clf =RandomForestClassifier(n_estimators=5)"
   ]
  },
  {
   "cell_type": "code",
   "execution_count": 61,
   "id": "e75a5699",
   "metadata": {},
   "outputs": [],
   "source": [
    "print('Cross-validation (accuracy),knn',cross_val_score(knn, X_train, y_train, cv=5).mean())\n",
    "print('Cross-validation (accuracy),dec_tree_clf' ,cross_val_score(dec_tree_clf, X_train, y_train, cv=5).mean())\n",
    "print('Cross-validation (accuracy),random_forest_clf' ,cross_val_score(random_forest_clf, X_train, y_train, cv=5).mean())"
   ]
  },
  {
   "cell_type": "code",
   "execution_count": 62,
   "id": "5393c603",
   "metadata": {},
   "outputs": [],
   "source": [
    "knn.fit(X_train, y_train)"
   ]
  },
  {
   "cell_type": "code",
   "execution_count": null,
   "id": "ba9cd799",
   "metadata": {},
   "outputs": [],
   "source": [
    "print(knn.score(X_test, y_test))\n"
   ]
  },
  {
   "cell_type": "markdown",
   "id": "b1966e7e",
   "metadata": {},
   "source": [
    "we are training the k-nn algorithm and give out the accuracy for each k value from 1-100"
   ]
  },
  {
   "cell_type": "code",
   "execution_count": null,
   "id": "b546a2f9",
   "metadata": {},
   "outputs": [],
   "source": [
    "k_range = range(1,20)\n",
    "scores = []\n",
    "\n",
    "for k in k_range:\n",
    "    knn = KNeighborsClassifier(n_neighbors = k)\n",
    "    knn.fit(X_train, y_train)\n",
    "    scores.append(knn.score(X_test, y_test))\n",
    "\n",
    "plt.figure()\n",
    "plt.xlabel('k')\n",
    "plt.ylabel('accuracy')\n",
    "plt.scatter(k_range, scores)\n",
    "plt.xticks([0,5,10,15,20]);"
   ]
  },
  {
   "cell_type": "markdown",
   "id": "921d7a14",
   "metadata": {},
   "source": [
    "### Decision Tree: \n",
    "to compare the rule-based model with the decision tree for feet items"
   ]
  },
  {
   "cell_type": "code",
   "execution_count": null,
   "id": "4eb964e4",
   "metadata": {},
   "outputs": [],
   "source": [
    "i_range = range(1,40)\n",
    "scores= []\n",
    "\n",
    "for i in i_range:\n",
    "    dec_tree_clf = DecisionTreeClassifier(max_depth = i).fit(X_train, y_train)\n",
    "    scores.append(dec_tree_clf.score(X_test, y_test))\n",
    "\n",
    "plt.figure()\n",
    "plt.xlabel('k')\n",
    "plt.ylabel('accuracy')\n",
    "plt.scatter(i_range, scores)\n",
    "plt.xticks([0,5,10,15,20,25,30,35,40]);"
   ]
  },
  {
   "cell_type": "code",
   "execution_count": null,
   "id": "8ce59446",
   "metadata": {},
   "outputs": [],
   "source": [
    "dec_tree_clf = DecisionTreeClassifier(max_depth = 3)\n",
    "dec_tree_clf.fit(X_train, y_train)\n",
    "dec_tree_clf.score(X_test, y_test)"
   ]
  },
  {
   "cell_type": "code",
   "execution_count": null,
   "id": "9c50253c",
   "metadata": {},
   "outputs": [],
   "source": [
    "def plot_feature_importances(clf, feature_names):\n",
    "    c_features = len(feature_names)\n",
    "    plt.barh(range(c_features), clf.feature_importances_)\n",
    "    plt.xlabel(\"Feature importance\")\n",
    "    plt.ylabel(\"Feature name\")\n",
    "    plt.yticks(np.arange(c_features), feature_names)"
   ]
  },
  {
   "cell_type": "code",
   "execution_count": null,
   "id": "40c968ff",
   "metadata": {},
   "outputs": [],
   "source": [
    "\n",
    "plot_feature_importances(dec_tree_clf,['temperature', 'sex','heat_perception', 'heaviness_trip','weather'] )"
   ]
  },
  {
   "cell_type": "code",
   "execution_count": null,
   "id": "33d6cb76",
   "metadata": {},
   "outputs": [],
   "source": [
    "fig, axes = plt.subplots(nrows = 1,ncols = 1,figsize = (30,30), dpi=450)\n",
    "plot_tree(dec_tree_clf,class_names=class_name,feature_names=['temperature', 'sex','heat_perception', 'heaviness_trip','weather'], filled=True)\n"
   ]
  },
  {
   "cell_type": "markdown",
   "id": "7981462a",
   "metadata": {},
   "source": [
    "### Random Forest Classifier\n",
    "Adapt the following example code from Breiman, “Random Forests”, Machine Learning, 45(1), 5-32, 2001. For documentation click [here](https://scikit-learn.org/stable/modules/generated/sklearn.ensemble.RandomForestClassifier.html)"
   ]
  },
  {
   "cell_type": "code",
   "execution_count": null,
   "id": "7571f0db",
   "metadata": {},
   "outputs": [],
   "source": [
    "X_train, y_train = make_classification(n_features=5)\n",
    "clf =RandomForestClassifier(n_estimators=100)\n",
    "clf.fit(X, y)\n",
    "print(clf.score(X_test, y_test))"
   ]
  },
  {
   "cell_type": "markdown",
   "id": "d312c57f",
   "metadata": {},
   "source": [
    "## 5. Model evaluation \n",
    "#### (more research is needed to define the relevant metrics)\n",
    "In this step we will use corresponding metrics to test the ability of multi-class classifier by comparing the performance of different models and eventually, analysing the best peforming model my tuning different parameters."
   ]
  },
  {
   "cell_type": "markdown",
   "id": "e4746e7e",
   "metadata": {},
   "source": [
    "### Use the trained classifier model to classify new objects"
   ]
  },
  {
   "cell_type": "code",
   "execution_count": null,
   "id": "8f93afb7",
   "metadata": {},
   "outputs": [],
   "source": [
    "#new object classification on the \"test set\" as defined by Hastie et al. above"
   ]
  },
  {
   "cell_type": "markdown",
   "id": "1d956fdd",
   "metadata": {},
   "source": [
    "### Accuracy\n",
    "This metric will be directly computed from the confusion matrix. <p> Is already Featured in training the model"
   ]
  },
  {
   "cell_type": "markdown",
   "id": "5d86c085",
   "metadata": {},
   "source": [
    "### Multi-class confusion matrix\n",
    "Confusion Matrix is used to know the performance of a Machine learning classification. It is represented in a matrix form. [Confusion Matrix](https://www.analyticsvidhya.com/blog/2021/06/confusion-matrix-for-multi-class-classification/#:~:text=Confusion%20Matrix%20is%20used%20to,between%20Actual%20and%20predicted%20values.&text=Confusion%20Matrix%20has%204%20terms,and%20False%20Negative(FN).) gives a comparison between Actual and predicted values"
   ]
  },
  {
   "cell_type": "code",
   "execution_count": null,
   "id": "6b9a34ea",
   "metadata": {},
   "outputs": [],
   "source": [
    "#some code"
   ]
  },
  {
   "cell_type": "markdown",
   "id": "e631c58f",
   "metadata": {},
   "source": [
    "### Precision and recall\n",
    "Precision quantifies the number of positive class predictions that actually belong to the positive class. Recall quantifies the number of positive class predictions made out of all positive examples in the dataset. [For more read the following blog](https://towardsdatascience.com/multi-class-metrics-made-simple-part-i-precision-and-recall-9250280bddc2)."
   ]
  },
  {
   "cell_type": "code",
   "execution_count": null,
   "id": "d919b5cd",
   "metadata": {},
   "outputs": [],
   "source": [
    "#some code"
   ]
  },
  {
   "cell_type": "markdown",
   "id": "e0e5d41f",
   "metadata": {},
   "source": [
    "### K-fold cross-validation\n",
    "In this step, we will leverage k-fold cross validation  to estimate the skill of the model on new data."
   ]
  },
  {
   "cell_type": "code",
   "execution_count": null,
   "id": "e8aec558",
   "metadata": {},
   "outputs": [],
   "source": [
    "#some code\n"
   ]
  },
  {
   "cell_type": "markdown",
   "id": "b54e6671",
   "metadata": {},
   "source": [
    "## 6. Model deployment"
   ]
  },
  {
   "cell_type": "markdown",
   "id": "3e011927",
   "metadata": {},
   "source": [
    "ML learning part is not getting deployed in the app"
   ]
  },
  {
   "cell_type": "markdown",
   "id": "833c13d2",
   "metadata": {},
   "source": [
    "Further steps: save the model as a file, and create an .xls file with the testset (as defined by Hastie et al., 2009) and corresponding predictions in an additional column Details to be aligned with WD team (e.g., Flask interface)."
   ]
  }
 ],
 "metadata": {
  "kernelspec": {
   "display_name": "Python 3",
   "language": "python",
   "name": "python3"
  },
  "language_info": {
   "codemirror_mode": {
    "name": "ipython",
    "version": 3
   },
   "file_extension": ".py",
   "mimetype": "text/x-python",
   "name": "python",
   "nbconvert_exporter": "python",
   "pygments_lexer": "ipython3",
   "version": "3.8.8"
  }
 },
 "nbformat": 4,
 "nbformat_minor": 5
}
